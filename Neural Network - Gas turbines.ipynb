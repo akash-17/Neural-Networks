{
 "cells": [
  {
   "cell_type": "markdown",
   "metadata": {},
   "source": [
    "# Problem statement"
   ]
  },
  {
   "cell_type": "markdown",
   "metadata": {},
   "source": [
    "##### The dataset contains 15039 instances of 11 sensor measures aggregated over one hour (by means of average or sum) from a gas turbine. The Dataset includes gas turbine parameters (such as Turbine Inlet Temperature and Compressor Discharge pressure) in addition to the ambient variables. \n",
    "\n",
    "##### We need to predict turbine energy yield (TEY) using ambient variables as features.\n",
    "\n"
   ]
  },
  {
   "cell_type": "markdown",
   "metadata": {},
   "source": [
    "# Importing the libraries "
   ]
  },
  {
   "cell_type": "code",
   "execution_count": 1,
   "metadata": {
    "ExecuteTime": {
     "end_time": "2021-04-27T11:10:28.517216Z",
     "start_time": "2021-04-27T11:10:22.314055Z"
    }
   },
   "outputs": [],
   "source": [
    "from sklearn.model_selection import GridSearchCV, KFold,train_test_split\n",
    "from keras.models import Sequential\n",
    "from keras.layers import Dense\n",
    "from keras.wrappers.scikit_learn import KerasClassifier\n",
    "from keras.optimizers import Adam\n",
    "import pandas as pd\n",
    "import numpy as np\n",
    "import keras\n",
    "from sklearn.preprocessing import StandardScaler\n",
    "from sklearn.metrics import confusion_matrix, classification_report, accuracy_score\n",
    "import seaborn as sn\n",
    "from sklearn import preprocessing\n",
    "from keras.wrappers.scikit_learn import KerasRegressor\n",
    "\n"
   ]
  },
  {
   "cell_type": "markdown",
   "metadata": {},
   "source": [
    "# Loading the dataset"
   ]
  },
  {
   "cell_type": "code",
   "execution_count": 2,
   "metadata": {
    "ExecuteTime": {
     "end_time": "2021-04-27T11:10:28.580464Z",
     "start_time": "2021-04-27T11:10:28.523942Z"
    }
   },
   "outputs": [],
   "source": [
    "turbine = pd.read_csv(\"gas_turbines.csv\")"
   ]
  },
  {
   "cell_type": "code",
   "execution_count": 3,
   "metadata": {
    "ExecuteTime": {
     "end_time": "2021-04-27T11:10:28.633193Z",
     "start_time": "2021-04-27T11:10:28.584804Z"
    }
   },
   "outputs": [
    {
     "data": {
      "text/html": [
       "<div>\n",
       "<style scoped>\n",
       "    .dataframe tbody tr th:only-of-type {\n",
       "        vertical-align: middle;\n",
       "    }\n",
       "\n",
       "    .dataframe tbody tr th {\n",
       "        vertical-align: top;\n",
       "    }\n",
       "\n",
       "    .dataframe thead th {\n",
       "        text-align: right;\n",
       "    }\n",
       "</style>\n",
       "<table border=\"1\" class=\"dataframe\">\n",
       "  <thead>\n",
       "    <tr style=\"text-align: right;\">\n",
       "      <th></th>\n",
       "      <th>AT</th>\n",
       "      <th>AP</th>\n",
       "      <th>AH</th>\n",
       "      <th>AFDP</th>\n",
       "      <th>GTEP</th>\n",
       "      <th>TIT</th>\n",
       "      <th>TAT</th>\n",
       "      <th>TEY</th>\n",
       "      <th>CDP</th>\n",
       "      <th>CO</th>\n",
       "      <th>NOX</th>\n",
       "    </tr>\n",
       "  </thead>\n",
       "  <tbody>\n",
       "    <tr>\n",
       "      <th>0</th>\n",
       "      <td>6.8594</td>\n",
       "      <td>1007.9</td>\n",
       "      <td>96.799</td>\n",
       "      <td>3.5000</td>\n",
       "      <td>19.663</td>\n",
       "      <td>1059.2</td>\n",
       "      <td>550.00</td>\n",
       "      <td>114.70</td>\n",
       "      <td>10.605</td>\n",
       "      <td>3.1547</td>\n",
       "      <td>82.722</td>\n",
       "    </tr>\n",
       "    <tr>\n",
       "      <th>1</th>\n",
       "      <td>6.7850</td>\n",
       "      <td>1008.4</td>\n",
       "      <td>97.118</td>\n",
       "      <td>3.4998</td>\n",
       "      <td>19.728</td>\n",
       "      <td>1059.3</td>\n",
       "      <td>550.00</td>\n",
       "      <td>114.72</td>\n",
       "      <td>10.598</td>\n",
       "      <td>3.2363</td>\n",
       "      <td>82.776</td>\n",
       "    </tr>\n",
       "    <tr>\n",
       "      <th>2</th>\n",
       "      <td>6.8977</td>\n",
       "      <td>1008.8</td>\n",
       "      <td>95.939</td>\n",
       "      <td>3.4824</td>\n",
       "      <td>19.779</td>\n",
       "      <td>1059.4</td>\n",
       "      <td>549.87</td>\n",
       "      <td>114.71</td>\n",
       "      <td>10.601</td>\n",
       "      <td>3.2012</td>\n",
       "      <td>82.468</td>\n",
       "    </tr>\n",
       "    <tr>\n",
       "      <th>3</th>\n",
       "      <td>7.0569</td>\n",
       "      <td>1009.2</td>\n",
       "      <td>95.249</td>\n",
       "      <td>3.4805</td>\n",
       "      <td>19.792</td>\n",
       "      <td>1059.6</td>\n",
       "      <td>549.99</td>\n",
       "      <td>114.72</td>\n",
       "      <td>10.606</td>\n",
       "      <td>3.1923</td>\n",
       "      <td>82.670</td>\n",
       "    </tr>\n",
       "    <tr>\n",
       "      <th>4</th>\n",
       "      <td>7.3978</td>\n",
       "      <td>1009.7</td>\n",
       "      <td>95.150</td>\n",
       "      <td>3.4976</td>\n",
       "      <td>19.765</td>\n",
       "      <td>1059.7</td>\n",
       "      <td>549.98</td>\n",
       "      <td>114.72</td>\n",
       "      <td>10.612</td>\n",
       "      <td>3.2484</td>\n",
       "      <td>82.311</td>\n",
       "    </tr>\n",
       "  </tbody>\n",
       "</table>\n",
       "</div>"
      ],
      "text/plain": [
       "       AT      AP      AH    AFDP    GTEP     TIT     TAT     TEY     CDP  \\\n",
       "0  6.8594  1007.9  96.799  3.5000  19.663  1059.2  550.00  114.70  10.605   \n",
       "1  6.7850  1008.4  97.118  3.4998  19.728  1059.3  550.00  114.72  10.598   \n",
       "2  6.8977  1008.8  95.939  3.4824  19.779  1059.4  549.87  114.71  10.601   \n",
       "3  7.0569  1009.2  95.249  3.4805  19.792  1059.6  549.99  114.72  10.606   \n",
       "4  7.3978  1009.7  95.150  3.4976  19.765  1059.7  549.98  114.72  10.612   \n",
       "\n",
       "       CO     NOX  \n",
       "0  3.1547  82.722  \n",
       "1  3.2363  82.776  \n",
       "2  3.2012  82.468  \n",
       "3  3.1923  82.670  \n",
       "4  3.2484  82.311  "
      ]
     },
     "execution_count": 3,
     "metadata": {},
     "output_type": "execute_result"
    }
   ],
   "source": [
    "turbine.head()"
   ]
  },
  {
   "cell_type": "markdown",
   "metadata": {},
   "source": [
    "###### We can just peek into few data points by using head function of pandas. By default, head function return top 5 values "
   ]
  },
  {
   "cell_type": "markdown",
   "metadata": {},
   "source": [
    "# Data Insights"
   ]
  },
  {
   "cell_type": "code",
   "execution_count": 4,
   "metadata": {
    "ExecuteTime": {
     "end_time": "2021-04-27T11:10:28.651162Z",
     "start_time": "2021-04-27T11:10:28.637703Z"
    }
   },
   "outputs": [
    {
     "data": {
      "text/plain": [
       "(15039, 11)"
      ]
     },
     "execution_count": 4,
     "metadata": {},
     "output_type": "execute_result"
    }
   ],
   "source": [
    "turbine.shape"
   ]
  },
  {
   "cell_type": "code",
   "execution_count": 5,
   "metadata": {
    "ExecuteTime": {
     "end_time": "2021-04-27T11:10:28.690746Z",
     "start_time": "2021-04-27T11:10:28.654797Z"
    }
   },
   "outputs": [
    {
     "name": "stdout",
     "output_type": "stream",
     "text": [
      "<class 'pandas.core.frame.DataFrame'>\n",
      "RangeIndex: 15039 entries, 0 to 15038\n",
      "Data columns (total 11 columns):\n",
      " #   Column  Non-Null Count  Dtype  \n",
      "---  ------  --------------  -----  \n",
      " 0   AT      15039 non-null  float64\n",
      " 1   AP      15039 non-null  float64\n",
      " 2   AH      15039 non-null  float64\n",
      " 3   AFDP    15039 non-null  float64\n",
      " 4   GTEP    15039 non-null  float64\n",
      " 5   TIT     15039 non-null  float64\n",
      " 6   TAT     15039 non-null  float64\n",
      " 7   TEY     15039 non-null  float64\n",
      " 8   CDP     15039 non-null  float64\n",
      " 9   CO      15039 non-null  float64\n",
      " 10  NOX     15039 non-null  float64\n",
      "dtypes: float64(11)\n",
      "memory usage: 1.3 MB\n"
     ]
    }
   ],
   "source": [
    "turbine.info()"
   ]
  },
  {
   "cell_type": "markdown",
   "metadata": {},
   "source": [
    "### Observations :-"
   ]
  },
  {
   "cell_type": "markdown",
   "metadata": {},
   "source": [
    "##### We could see there are no null values in our dataset and all the features are having numerical values"
   ]
  },
  {
   "cell_type": "raw",
   "metadata": {},
   "source": [
    "Attribute Information:\n",
    "\n",
    "The explanations of sensor measurements and their brief statistics are given below.\n",
    "\n",
    "Variable (Abbr.) Unit Min Max Mean\n",
    "Ambient temperature (AT) C â€“6.23 37.10 17.71\n",
    "Ambient pressure (AP) mbar 985.85 1036.56 1013.07\n",
    "Ambient humidity (AH) (%) 24.08 100.20 77.87\n",
    "Air filter difference pressure (AFDP) mbar 2.09 7.61 3.93\n",
    "Gas turbine exhaust pressure (GTEP) mbar 17.70 40.72 25.56\n",
    "Turbine inlet temperature (TIT) C 1000.85 1100.89 1081.43\n",
    "Turbine after temperature (TAT) C 511.04 550.61 546.16\n",
    "Compressor discharge pressure (CDP) mbar 9.85 15.16 12.06\n",
    "Turbine energy yield (TEY) MWH 100.02 179.50 133.51\n",
    "Carbon monoxide (CO) mg/m3 0.00 44.10 2.37\n",
    "Nitrogen oxides (NOx) mg/m3 25.90 119.91 65.29"
   ]
  },
  {
   "cell_type": "code",
   "execution_count": 6,
   "metadata": {
    "ExecuteTime": {
     "end_time": "2021-04-27T11:10:28.735596Z",
     "start_time": "2021-04-27T11:10:28.694817Z"
    }
   },
   "outputs": [
    {
     "name": "stdout",
     "output_type": "stream",
     "text": [
      "Number of duplicate rows: 0\n"
     ]
    }
   ],
   "source": [
    "dups = turbine.duplicated()\n",
    "print('Number of duplicate rows: %d' % dups.sum())"
   ]
  },
  {
   "cell_type": "markdown",
   "metadata": {},
   "source": [
    "##### There are no duplicate values in our dataset"
   ]
  },
  {
   "cell_type": "code",
   "execution_count": 7,
   "metadata": {
    "ExecuteTime": {
     "end_time": "2021-04-27T11:10:28.802562Z",
     "start_time": "2021-04-27T11:10:28.738586Z"
    }
   },
   "outputs": [
    {
     "data": {
      "text/html": [
       "<div>\n",
       "<style scoped>\n",
       "    .dataframe tbody tr th:only-of-type {\n",
       "        vertical-align: middle;\n",
       "    }\n",
       "\n",
       "    .dataframe tbody tr th {\n",
       "        vertical-align: top;\n",
       "    }\n",
       "\n",
       "    .dataframe thead th {\n",
       "        text-align: right;\n",
       "    }\n",
       "</style>\n",
       "<table border=\"1\" class=\"dataframe\">\n",
       "  <thead>\n",
       "    <tr style=\"text-align: right;\">\n",
       "      <th></th>\n",
       "      <th>AT</th>\n",
       "      <th>AP</th>\n",
       "      <th>AH</th>\n",
       "      <th>AFDP</th>\n",
       "      <th>GTEP</th>\n",
       "      <th>TIT</th>\n",
       "      <th>TAT</th>\n",
       "      <th>TEY</th>\n",
       "      <th>CDP</th>\n",
       "      <th>CO</th>\n",
       "      <th>NOX</th>\n",
       "    </tr>\n",
       "  </thead>\n",
       "  <tbody>\n",
       "    <tr>\n",
       "      <th>count</th>\n",
       "      <td>15039.000000</td>\n",
       "      <td>15039.00000</td>\n",
       "      <td>15039.000000</td>\n",
       "      <td>15039.000000</td>\n",
       "      <td>15039.000000</td>\n",
       "      <td>15039.000000</td>\n",
       "      <td>15039.000000</td>\n",
       "      <td>15039.000000</td>\n",
       "      <td>15039.000000</td>\n",
       "      <td>15039.000000</td>\n",
       "      <td>15039.000000</td>\n",
       "    </tr>\n",
       "    <tr>\n",
       "      <th>mean</th>\n",
       "      <td>17.764381</td>\n",
       "      <td>1013.19924</td>\n",
       "      <td>79.124174</td>\n",
       "      <td>4.200294</td>\n",
       "      <td>25.419061</td>\n",
       "      <td>1083.798770</td>\n",
       "      <td>545.396183</td>\n",
       "      <td>134.188464</td>\n",
       "      <td>12.102353</td>\n",
       "      <td>1.972499</td>\n",
       "      <td>68.190934</td>\n",
       "    </tr>\n",
       "    <tr>\n",
       "      <th>std</th>\n",
       "      <td>7.574323</td>\n",
       "      <td>6.41076</td>\n",
       "      <td>13.793439</td>\n",
       "      <td>0.760197</td>\n",
       "      <td>4.173916</td>\n",
       "      <td>16.527806</td>\n",
       "      <td>7.866803</td>\n",
       "      <td>15.829717</td>\n",
       "      <td>1.103196</td>\n",
       "      <td>2.222206</td>\n",
       "      <td>10.470586</td>\n",
       "    </tr>\n",
       "    <tr>\n",
       "      <th>min</th>\n",
       "      <td>0.522300</td>\n",
       "      <td>985.85000</td>\n",
       "      <td>30.344000</td>\n",
       "      <td>2.087400</td>\n",
       "      <td>17.878000</td>\n",
       "      <td>1000.800000</td>\n",
       "      <td>512.450000</td>\n",
       "      <td>100.170000</td>\n",
       "      <td>9.904400</td>\n",
       "      <td>0.000388</td>\n",
       "      <td>27.765000</td>\n",
       "    </tr>\n",
       "    <tr>\n",
       "      <th>25%</th>\n",
       "      <td>11.408000</td>\n",
       "      <td>1008.90000</td>\n",
       "      <td>69.750000</td>\n",
       "      <td>3.723900</td>\n",
       "      <td>23.294000</td>\n",
       "      <td>1079.600000</td>\n",
       "      <td>542.170000</td>\n",
       "      <td>127.985000</td>\n",
       "      <td>11.622000</td>\n",
       "      <td>0.858055</td>\n",
       "      <td>61.303500</td>\n",
       "    </tr>\n",
       "    <tr>\n",
       "      <th>50%</th>\n",
       "      <td>18.186000</td>\n",
       "      <td>1012.80000</td>\n",
       "      <td>82.266000</td>\n",
       "      <td>4.186200</td>\n",
       "      <td>25.082000</td>\n",
       "      <td>1088.700000</td>\n",
       "      <td>549.890000</td>\n",
       "      <td>133.780000</td>\n",
       "      <td>12.025000</td>\n",
       "      <td>1.390200</td>\n",
       "      <td>66.601000</td>\n",
       "    </tr>\n",
       "    <tr>\n",
       "      <th>75%</th>\n",
       "      <td>23.862500</td>\n",
       "      <td>1016.90000</td>\n",
       "      <td>90.043500</td>\n",
       "      <td>4.550900</td>\n",
       "      <td>27.184000</td>\n",
       "      <td>1096.000000</td>\n",
       "      <td>550.060000</td>\n",
       "      <td>140.895000</td>\n",
       "      <td>12.578000</td>\n",
       "      <td>2.160400</td>\n",
       "      <td>73.935500</td>\n",
       "    </tr>\n",
       "    <tr>\n",
       "      <th>max</th>\n",
       "      <td>34.929000</td>\n",
       "      <td>1034.20000</td>\n",
       "      <td>100.200000</td>\n",
       "      <td>7.610600</td>\n",
       "      <td>37.402000</td>\n",
       "      <td>1100.800000</td>\n",
       "      <td>550.610000</td>\n",
       "      <td>174.610000</td>\n",
       "      <td>15.081000</td>\n",
       "      <td>44.103000</td>\n",
       "      <td>119.890000</td>\n",
       "    </tr>\n",
       "  </tbody>\n",
       "</table>\n",
       "</div>"
      ],
      "text/plain": [
       "                 AT           AP            AH          AFDP          GTEP  \\\n",
       "count  15039.000000  15039.00000  15039.000000  15039.000000  15039.000000   \n",
       "mean      17.764381   1013.19924     79.124174      4.200294     25.419061   \n",
       "std        7.574323      6.41076     13.793439      0.760197      4.173916   \n",
       "min        0.522300    985.85000     30.344000      2.087400     17.878000   \n",
       "25%       11.408000   1008.90000     69.750000      3.723900     23.294000   \n",
       "50%       18.186000   1012.80000     82.266000      4.186200     25.082000   \n",
       "75%       23.862500   1016.90000     90.043500      4.550900     27.184000   \n",
       "max       34.929000   1034.20000    100.200000      7.610600     37.402000   \n",
       "\n",
       "                TIT           TAT           TEY           CDP            CO  \\\n",
       "count  15039.000000  15039.000000  15039.000000  15039.000000  15039.000000   \n",
       "mean    1083.798770    545.396183    134.188464     12.102353      1.972499   \n",
       "std       16.527806      7.866803     15.829717      1.103196      2.222206   \n",
       "min     1000.800000    512.450000    100.170000      9.904400      0.000388   \n",
       "25%     1079.600000    542.170000    127.985000     11.622000      0.858055   \n",
       "50%     1088.700000    549.890000    133.780000     12.025000      1.390200   \n",
       "75%     1096.000000    550.060000    140.895000     12.578000      2.160400   \n",
       "max     1100.800000    550.610000    174.610000     15.081000     44.103000   \n",
       "\n",
       "                NOX  \n",
       "count  15039.000000  \n",
       "mean      68.190934  \n",
       "std       10.470586  \n",
       "min       27.765000  \n",
       "25%       61.303500  \n",
       "50%       66.601000  \n",
       "75%       73.935500  \n",
       "max      119.890000  "
      ]
     },
     "execution_count": 7,
     "metadata": {},
     "output_type": "execute_result"
    }
   ],
   "source": [
    "turbine.describe()"
   ]
  },
  {
   "cell_type": "markdown",
   "metadata": {},
   "source": [
    "# Data visualization"
   ]
  },
  {
   "cell_type": "markdown",
   "metadata": {},
   "source": [
    "##### We will use boxplots and histograms for checking outlier data and understanding the data distribution of the features in our dataset"
   ]
  },
  {
   "cell_type": "code",
   "execution_count": 8,
   "metadata": {
    "ExecuteTime": {
     "end_time": "2021-04-27T11:10:29.130619Z",
     "start_time": "2021-04-27T11:10:28.808841Z"
    }
   },
   "outputs": [
    {
     "name": "stderr",
     "output_type": "stream",
     "text": [
      "C:\\Users\\91982\\Anaconda3\\lib\\site-packages\\seaborn\\_decorators.py:43: FutureWarning: Pass the following variable as a keyword arg: x. From version 0.12, the only valid positional argument will be `data`, and passing other arguments without an explicit keyword will result in an error or misinterpretation.\n",
      "  FutureWarning\n"
     ]
    },
    {
     "data": {
      "text/plain": [
       "<AxesSubplot:xlabel='AT'>"
      ]
     },
     "execution_count": 8,
     "metadata": {},
     "output_type": "execute_result"
    },
    {
     "data": {
      "image/png": "[encoded data removed]",
      "text/plain": [
       "<Figure size 432x288 with 1 Axes>"
      ]
     },
     "metadata": {
      "needs_background": "light"
     },
     "output_type": "display_data"
    }
   ],
   "source": [
    "sn.boxplot(turbine['AT'])"
   ]
  },
  {
   "cell_type": "code",
   "execution_count": 9,
   "metadata": {
    "ExecuteTime": {
     "end_time": "2021-04-27T11:10:29.362122Z",
     "start_time": "2021-04-27T11:10:29.133698Z"
    }
   },
   "outputs": [
    {
     "name": "stderr",
     "output_type": "stream",
     "text": [
      "C:\\Users\\91982\\Anaconda3\\lib\\site-packages\\seaborn\\distributions.py:2557: FutureWarning: `distplot` is a deprecated function and will be removed in a future version. Please adapt your code to use either `displot` (a figure-level function with similar flexibility) or `histplot` (an axes-level function for histograms).\n",
      "  warnings.warn(msg, FutureWarning)\n"
     ]
    },
    {
     "data": {
      "text/plain": [
       "<AxesSubplot:xlabel='AT'>"
      ]
     },
     "execution_count": 9,
     "metadata": {},
     "output_type": "execute_result"
    },
    {
     "data": {
      "image/png": "[encoded data removed]",
      "text/plain": [
       "<Figure size 432x288 with 1 Axes>"
      ]
     },
     "metadata": {
      "needs_background": "light"
     },
     "output_type": "display_data"
    }
   ],
   "source": [
    "sn.distplot(turbine['AT'],kde=False)"
   ]
  },
  {
   "cell_type": "code",
   "execution_count": 10,
   "metadata": {
    "ExecuteTime": {
     "end_time": "2021-04-27T11:10:29.488250Z",
     "start_time": "2021-04-27T11:10:29.365150Z"
    }
   },
   "outputs": [
    {
     "name": "stderr",
     "output_type": "stream",
     "text": [
      "C:\\Users\\91982\\Anaconda3\\lib\\site-packages\\seaborn\\_decorators.py:43: FutureWarning: Pass the following variable as a keyword arg: x. From version 0.12, the only valid positional argument will be `data`, and passing other arguments without an explicit keyword will result in an error or misinterpretation.\n",
      "  FutureWarning\n"
     ]
    },
    {
     "data": {
      "text/plain": [
       "<AxesSubplot:xlabel='AP'>"
      ]
     },
     "execution_count": 10,
     "metadata": {},
     "output_type": "execute_result"
    },
    {
     "data": {
      "image/png": "[encoded data removed]",
      "text/plain": [
       "<Figure size 432x288 with 1 Axes>"
      ]
     },
     "metadata": {
      "needs_background": "light"
     },
     "output_type": "display_data"
    }
   ],
   "source": [
    "sn.boxplot(turbine['AP'])"
   ]
  },
  {
   "cell_type": "code",
   "execution_count": 11,
   "metadata": {
    "ExecuteTime": {
     "end_time": "2021-04-27T11:10:29.731217Z",
     "start_time": "2021-04-27T11:10:29.490011Z"
    }
   },
   "outputs": [
    {
     "name": "stderr",
     "output_type": "stream",
     "text": [
      "C:\\Users\\91982\\Anaconda3\\lib\\site-packages\\seaborn\\distributions.py:2557: FutureWarning: `distplot` is a deprecated function and will be removed in a future version. Please adapt your code to use either `displot` (a figure-level function with similar flexibility) or `histplot` (an axes-level function for histograms).\n",
      "  warnings.warn(msg, FutureWarning)\n"
     ]
    },
    {
     "data": {
      "text/plain": [
       "<AxesSubplot:xlabel='AP'>"
      ]
     },
     "execution_count": 11,
     "metadata": {},
     "output_type": "execute_result"
    },
    {
     "data": {
      "image/png": "[encoded data removed]",
      "text/plain": [
       "<Figure size 432x288 with 1 Axes>"
      ]
     },
     "metadata": {
      "needs_background": "light"
     },
     "output_type": "display_data"
    }
   ],
   "source": [
    "sn.distplot(turbine['AP'],kde=False)"
   ]
  },
  {
   "cell_type": "code",
   "execution_count": 12,
   "metadata": {
    "ExecuteTime": {
     "end_time": "2021-04-27T11:10:29.879364Z",
     "start_time": "2021-04-27T11:10:29.734509Z"
    }
   },
   "outputs": [
    {
     "name": "stderr",
     "output_type": "stream",
     "text": [
      "C:\\Users\\91982\\Anaconda3\\lib\\site-packages\\seaborn\\_decorators.py:43: FutureWarning: Pass the following variable as a keyword arg: x. From version 0.12, the only valid positional argument will be `data`, and passing other arguments without an explicit keyword will result in an error or misinterpretation.\n",
      "  FutureWarning\n"
     ]
    },
    {
     "data": {
      "text/plain": [
       "<AxesSubplot:xlabel='AH'>"
      ]
     },
     "execution_count": 12,
     "metadata": {},
     "output_type": "execute_result"
    },
    {
     "data": {
      "image/png": "[encoded data removed]",
      "text/plain": [
       "<Figure size 432x288 with 1 Axes>"
      ]
     },
     "metadata": {
      "needs_background": "light"
     },
     "output_type": "display_data"
    }
   ],
   "source": [
    "sn.boxplot(turbine['AH'])"
   ]
  },
  {
   "cell_type": "code",
   "execution_count": 13,
   "metadata": {
    "ExecuteTime": {
     "end_time": "2021-04-27T11:10:30.162550Z",
     "start_time": "2021-04-27T11:10:29.881655Z"
    }
   },
   "outputs": [
    {
     "name": "stderr",
     "output_type": "stream",
     "text": [
      "C:\\Users\\91982\\Anaconda3\\lib\\site-packages\\seaborn\\distributions.py:2557: FutureWarning: `distplot` is a deprecated function and will be removed in a future version. Please adapt your code to use either `displot` (a figure-level function with similar flexibility) or `histplot` (an axes-level function for histograms).\n",
      "  warnings.warn(msg, FutureWarning)\n"
     ]
    },
    {
     "data": {
      "text/plain": [
       "<AxesSubplot:xlabel='AH'>"
      ]
     },
     "execution_count": 13,
     "metadata": {},
     "output_type": "execute_result"
    },
    {
     "data": {
      "image/png": "[encoded data removed]",
      "text/plain": [
       "<Figure size 432x288 with 1 Axes>"
      ]
     },
     "metadata": {
      "needs_background": "light"
     },
     "output_type": "display_data"
    }
   ],
   "source": [
    "sn.distplot(turbine['AH'],kde=False)"
   ]
  },
  {
   "cell_type": "code",
   "execution_count": 14,
   "metadata": {
    "ExecuteTime": {
     "end_time": "2021-04-27T11:10:30.350319Z",
     "start_time": "2021-04-27T11:10:30.165543Z"
    }
   },
   "outputs": [
    {
     "name": "stderr",
     "output_type": "stream",
     "text": [
      "C:\\Users\\91982\\Anaconda3\\lib\\site-packages\\seaborn\\_decorators.py:43: FutureWarning: Pass the following variable as a keyword arg: x. From version 0.12, the only valid positional argument will be `data`, and passing other arguments without an explicit keyword will result in an error or misinterpretation.\n",
      "  FutureWarning\n"
     ]
    },
    {
     "data": {
      "text/plain": [
       "<AxesSubplot:xlabel='AFDP'>"
      ]
     },
     "execution_count": 14,
     "metadata": {},
     "output_type": "execute_result"
    },
    {
     "data": {
      "image/png": "[encoded data removed]",
      "text/plain": [
       "<Figure size 432x288 with 1 Axes>"
      ]
     },
     "metadata": {
      "needs_background": "light"
     },
     "output_type": "display_data"
    }
   ],
   "source": [
    "sn.boxplot(turbine['AFDP'])"
   ]
  },
  {
   "cell_type": "code",
   "execution_count": 15,
   "metadata": {
    "ExecuteTime": {
     "end_time": "2021-04-27T11:10:30.718979Z",
     "start_time": "2021-04-27T11:10:30.354776Z"
    }
   },
   "outputs": [
    {
     "name": "stderr",
     "output_type": "stream",
     "text": [
      "C:\\Users\\91982\\Anaconda3\\lib\\site-packages\\seaborn\\distributions.py:2557: FutureWarning: `distplot` is a deprecated function and will be removed in a future version. Please adapt your code to use either `displot` (a figure-level function with similar flexibility) or `histplot` (an axes-level function for histograms).\n",
      "  warnings.warn(msg, FutureWarning)\n"
     ]
    },
    {
     "data": {
      "text/plain": [
       "<AxesSubplot:xlabel='AFDP'>"
      ]
     },
     "execution_count": 15,
     "metadata": {},
     "output_type": "execute_result"
    },
    {
     "data": {
      "image/png": "[encoded data removed]",
      "text/plain": [
       "<Figure size 432x288 with 1 Axes>"
      ]
     },
     "metadata": {
      "needs_background": "light"
     },
     "output_type": "display_data"
    }
   ],
   "source": [
    "sn.distplot(turbine['AFDP'],kde=False)"
   ]
  },
  {
   "cell_type": "code",
   "execution_count": 16,
   "metadata": {
    "ExecuteTime": {
     "end_time": "2021-04-27T11:10:30.929164Z",
     "start_time": "2021-04-27T11:10:30.723192Z"
    }
   },
   "outputs": [
    {
     "name": "stderr",
     "output_type": "stream",
     "text": [
      "C:\\Users\\91982\\Anaconda3\\lib\\site-packages\\seaborn\\_decorators.py:43: FutureWarning: Pass the following variable as a keyword arg: x. From version 0.12, the only valid positional argument will be `data`, and passing other arguments without an explicit keyword will result in an error or misinterpretation.\n",
      "  FutureWarning\n"
     ]
    },
    {
     "data": {
      "text/plain": [
       "<AxesSubplot:xlabel='GTEP'>"
      ]
     },
     "execution_count": 16,
     "metadata": {},
     "output_type": "execute_result"
    },
    {
     "data": {
      "image/png": "[encoded data removed]",
      "text/plain": [
       "<Figure size 432x288 with 1 Axes>"
      ]
     },
     "metadata": {
      "needs_background": "light"
     },
     "output_type": "display_data"
    }
   ],
   "source": [
    "sn.boxplot(turbine['GTEP'])"
   ]
  },
  {
   "cell_type": "code",
   "execution_count": 17,
   "metadata": {
    "ExecuteTime": {
     "end_time": "2021-04-27T11:10:31.212679Z",
     "start_time": "2021-04-27T11:10:30.931161Z"
    }
   },
   "outputs": [
    {
     "name": "stderr",
     "output_type": "stream",
     "text": [
      "C:\\Users\\91982\\Anaconda3\\lib\\site-packages\\seaborn\\distributions.py:2557: FutureWarning: `distplot` is a deprecated function and will be removed in a future version. Please adapt your code to use either `displot` (a figure-level function with similar flexibility) or `histplot` (an axes-level function for histograms).\n",
      "  warnings.warn(msg, FutureWarning)\n"
     ]
    },
    {
     "data": {
      "text/plain": [
       "<AxesSubplot:xlabel='GTEP'>"
      ]
     },
     "execution_count": 17,
     "metadata": {},
     "output_type": "execute_result"
    },
    {
     "data": {
      "image/png": "[encoded data removed]",
      "text/plain": [
       "<Figure size 432x288 with 1 Axes>"
      ]
     },
     "metadata": {
      "needs_background": "light"
     },
     "output_type": "display_data"
    }
   ],
   "source": [
    "sn.distplot(turbine['GTEP'],kde=False)"
   ]
  },
  {
   "cell_type": "code",
   "execution_count": 18,
   "metadata": {
    "ExecuteTime": {
     "end_time": "2021-04-27T11:10:31.371415Z",
     "start_time": "2021-04-27T11:10:31.215695Z"
    }
   },
   "outputs": [
    {
     "name": "stderr",
     "output_type": "stream",
     "text": [
      "C:\\Users\\91982\\Anaconda3\\lib\\site-packages\\seaborn\\_decorators.py:43: FutureWarning: Pass the following variable as a keyword arg: x. From version 0.12, the only valid positional argument will be `data`, and passing other arguments without an explicit keyword will result in an error or misinterpretation.\n",
      "  FutureWarning\n"
     ]
    },
    {
     "data": {
      "text/plain": [
       "<AxesSubplot:xlabel='TIT'>"
      ]
     },
     "execution_count": 18,
     "metadata": {},
     "output_type": "execute_result"
    },
    {
     "data": {
      "image/png": "[encoded data removed]",
      "text/plain": [
       "<Figure size 432x288 with 1 Axes>"
      ]
     },
     "metadata": {
      "needs_background": "light"
     },
     "output_type": "display_data"
    }
   ],
   "source": [
    "sn.boxplot(turbine['TIT'])"
   ]
  },
  {
   "cell_type": "code",
   "execution_count": 19,
   "metadata": {
    "ExecuteTime": {
     "end_time": "2021-04-27T11:10:31.621171Z",
     "start_time": "2021-04-27T11:10:31.373149Z"
    }
   },
   "outputs": [
    {
     "name": "stderr",
     "output_type": "stream",
     "text": [
      "C:\\Users\\91982\\Anaconda3\\lib\\site-packages\\seaborn\\distributions.py:2557: FutureWarning: `distplot` is a deprecated function and will be removed in a future version. Please adapt your code to use either `displot` (a figure-level function with similar flexibility) or `histplot` (an axes-level function for histograms).\n",
      "  warnings.warn(msg, FutureWarning)\n"
     ]
    },
    {
     "data": {
      "text/plain": [
       "<AxesSubplot:xlabel='TIT'>"
      ]
     },
     "execution_count": 19,
     "metadata": {},
     "output_type": "execute_result"
    },
    {
     "data": {
      "image/png": "[encoded data removed]",
      "text/plain": [
       "<Figure size 432x288 with 1 Axes>"
      ]
     },
     "metadata": {
      "needs_background": "light"
     },
     "output_type": "display_data"
    }
   ],
   "source": [
    "sn.distplot(turbine['TIT'],kde=False)"
   ]
  },
  {
   "cell_type": "code",
   "execution_count": 20,
   "metadata": {
    "ExecuteTime": {
     "end_time": "2021-04-27T11:10:31.850933Z",
     "start_time": "2021-04-27T11:10:31.624162Z"
    }
   },
   "outputs": [
    {
     "name": "stderr",
     "output_type": "stream",
     "text": [
      "C:\\Users\\91982\\Anaconda3\\lib\\site-packages\\seaborn\\_decorators.py:43: FutureWarning: Pass the following variable as a keyword arg: x. From version 0.12, the only valid positional argument will be `data`, and passing other arguments without an explicit keyword will result in an error or misinterpretation.\n",
      "  FutureWarning\n"
     ]
    },
    {
     "data": {
      "text/plain": [
       "<AxesSubplot:xlabel='TAT'>"
      ]
     },
     "execution_count": 20,
     "metadata": {},
     "output_type": "execute_result"
    },
    {
     "data": {
      "image/png": "[encoded data removed]",
      "text/plain": [
       "<Figure size 432x288 with 1 Axes>"
      ]
     },
     "metadata": {
      "needs_background": "light"
     },
     "output_type": "display_data"
    }
   ],
   "source": [
    "sn.boxplot(turbine['TAT'])"
   ]
  },
  {
   "cell_type": "code",
   "execution_count": 21,
   "metadata": {
    "ExecuteTime": {
     "end_time": "2021-04-27T11:10:32.221093Z",
     "start_time": "2021-04-27T11:10:31.855299Z"
    }
   },
   "outputs": [
    {
     "name": "stderr",
     "output_type": "stream",
     "text": [
      "C:\\Users\\91982\\Anaconda3\\lib\\site-packages\\seaborn\\distributions.py:2557: FutureWarning: `distplot` is a deprecated function and will be removed in a future version. Please adapt your code to use either `displot` (a figure-level function with similar flexibility) or `histplot` (an axes-level function for histograms).\n",
      "  warnings.warn(msg, FutureWarning)\n"
     ]
    },
    {
     "data": {
      "text/plain": [
       "<AxesSubplot:xlabel='TAT'>"
      ]
     },
     "execution_count": 21,
     "metadata": {},
     "output_type": "execute_result"
    },
    {
     "data": {
      "image/png": "[encoded data removed]",
      "text/plain": [
       "<Figure size 432x288 with 1 Axes>"
      ]
     },
     "metadata": {
      "needs_background": "light"
     },
     "output_type": "display_data"
    }
   ],
   "source": [
    "sn.distplot(turbine['TAT'],kde=False)"
   ]
  },
  {
   "cell_type": "code",
   "execution_count": 22,
   "metadata": {
    "ExecuteTime": {
     "end_time": "2021-04-27T11:10:32.513579Z",
     "start_time": "2021-04-27T11:10:32.224085Z"
    }
   },
   "outputs": [
    {
     "name": "stderr",
     "output_type": "stream",
     "text": [
      "C:\\Users\\91982\\Anaconda3\\lib\\site-packages\\seaborn\\_decorators.py:43: FutureWarning: Pass the following variable as a keyword arg: x. From version 0.12, the only valid positional argument will be `data`, and passing other arguments without an explicit keyword will result in an error or misinterpretation.\n",
      "  FutureWarning\n"
     ]
    },
    {
     "data": {
      "text/plain": [
       "<AxesSubplot:xlabel='TEY'>"
      ]
     },
     "execution_count": 22,
     "metadata": {},
     "output_type": "execute_result"
    },
    {
     "data": {
      "image/png": "[encoded data removed]",
      "text/plain": [
       "<Figure size 432x288 with 1 Axes>"
      ]
     },
     "metadata": {
      "needs_background": "light"
     },
     "output_type": "display_data"
    }
   ],
   "source": [
    "sn.boxplot(turbine['TEY'])"
   ]
  },
  {
   "cell_type": "code",
   "execution_count": 23,
   "metadata": {
    "ExecuteTime": {
     "end_time": "2021-04-27T11:10:32.914467Z",
     "start_time": "2021-04-27T11:10:32.522150Z"
    }
   },
   "outputs": [
    {
     "name": "stderr",
     "output_type": "stream",
     "text": [
      "C:\\Users\\91982\\Anaconda3\\lib\\site-packages\\seaborn\\distributions.py:2557: FutureWarning: `distplot` is a deprecated function and will be removed in a future version. Please adapt your code to use either `displot` (a figure-level function with similar flexibility) or `histplot` (an axes-level function for histograms).\n",
      "  warnings.warn(msg, FutureWarning)\n"
     ]
    },
    {
     "data": {
      "text/plain": [
       "<AxesSubplot:xlabel='TEY'>"
      ]
     },
     "execution_count": 23,
     "metadata": {},
     "output_type": "execute_result"
    },
    {
     "data": {
      "image/png": "[encoded data removed]",
      "text/plain": [
       "<Figure size 432x288 with 1 Axes>"
      ]
     },
     "metadata": {
      "needs_background": "light"
     },
     "output_type": "display_data"
    }
   ],
   "source": [
    "sn.distplot(turbine['TEY'],kde=False)"
   ]
  },
  {
   "cell_type": "code",
   "execution_count": 24,
   "metadata": {
    "ExecuteTime": {
     "end_time": "2021-04-27T11:10:33.062318Z",
     "start_time": "2021-04-27T11:10:32.919899Z"
    }
   },
   "outputs": [
    {
     "name": "stderr",
     "output_type": "stream",
     "text": [
      "C:\\Users\\91982\\Anaconda3\\lib\\site-packages\\seaborn\\_decorators.py:43: FutureWarning: Pass the following variable as a keyword arg: x. From version 0.12, the only valid positional argument will be `data`, and passing other arguments without an explicit keyword will result in an error or misinterpretation.\n",
      "  FutureWarning\n"
     ]
    },
    {
     "data": {
      "text/plain": [
       "<AxesSubplot:xlabel='CDP'>"
      ]
     },
     "execution_count": 24,
     "metadata": {},
     "output_type": "execute_result"
    },
    {
     "data": {
      "image/png": "[encoded data removed]",
      "text/plain": [
       "<Figure size 432x288 with 1 Axes>"
      ]
     },
     "metadata": {
      "needs_background": "light"
     },
     "output_type": "display_data"
    }
   ],
   "source": [
    "sn.boxplot(turbine['CDP'])"
   ]
  },
  {
   "cell_type": "code",
   "execution_count": 25,
   "metadata": {
    "ExecuteTime": {
     "end_time": "2021-04-27T11:10:33.360037Z",
     "start_time": "2021-04-27T11:10:33.064192Z"
    }
   },
   "outputs": [
    {
     "name": "stderr",
     "output_type": "stream",
     "text": [
      "C:\\Users\\91982\\Anaconda3\\lib\\site-packages\\seaborn\\distributions.py:2557: FutureWarning: `distplot` is a deprecated function and will be removed in a future version. Please adapt your code to use either `displot` (a figure-level function with similar flexibility) or `histplot` (an axes-level function for histograms).\n",
      "  warnings.warn(msg, FutureWarning)\n"
     ]
    },
    {
     "data": {
      "text/plain": [
       "<AxesSubplot:xlabel='CDP'>"
      ]
     },
     "execution_count": 25,
     "metadata": {},
     "output_type": "execute_result"
    },
    {
     "data": {
      "image/png": "[encoded data removed]",
      "text/plain": [
       "<Figure size 432x288 with 1 Axes>"
      ]
     },
     "metadata": {
      "needs_background": "light"
     },
     "output_type": "display_data"
    }
   ],
   "source": [
    "sn.distplot(turbine['CDP'],kde=False)"
   ]
  },
  {
   "cell_type": "code",
   "execution_count": 26,
   "metadata": {
    "ExecuteTime": {
     "end_time": "2021-04-27T11:10:33.516098Z",
     "start_time": "2021-04-27T11:10:33.362033Z"
    }
   },
   "outputs": [
    {
     "name": "stderr",
     "output_type": "stream",
     "text": [
      "C:\\Users\\91982\\Anaconda3\\lib\\site-packages\\seaborn\\_decorators.py:43: FutureWarning: Pass the following variable as a keyword arg: x. From version 0.12, the only valid positional argument will be `data`, and passing other arguments without an explicit keyword will result in an error or misinterpretation.\n",
      "  FutureWarning\n"
     ]
    },
    {
     "data": {
      "text/plain": [
       "<AxesSubplot:xlabel='CO'>"
      ]
     },
     "execution_count": 26,
     "metadata": {},
     "output_type": "execute_result"
    },
    {
     "data": {
      "image/png": "[encoded data removed]",
      "text/plain": [
       "<Figure size 432x288 with 1 Axes>"
      ]
     },
     "metadata": {
      "needs_background": "light"
     },
     "output_type": "display_data"
    }
   ],
   "source": [
    "sn.boxplot(turbine['CO'])"
   ]
  },
  {
   "cell_type": "code",
   "execution_count": 27,
   "metadata": {
    "ExecuteTime": {
     "end_time": "2021-04-27T11:10:33.918971Z",
     "start_time": "2021-04-27T11:10:33.520804Z"
    }
   },
   "outputs": [
    {
     "name": "stderr",
     "output_type": "stream",
     "text": [
      "C:\\Users\\91982\\Anaconda3\\lib\\site-packages\\seaborn\\distributions.py:2557: FutureWarning: `distplot` is a deprecated function and will be removed in a future version. Please adapt your code to use either `displot` (a figure-level function with similar flexibility) or `histplot` (an axes-level function for histograms).\n",
      "  warnings.warn(msg, FutureWarning)\n"
     ]
    },
    {
     "data": {
      "text/plain": [
       "<AxesSubplot:xlabel='CO'>"
      ]
     },
     "execution_count": 27,
     "metadata": {},
     "output_type": "execute_result"
    },
    {
     "data": {
      "image/png": "[encoded data removed]",
      "text/plain": [
       "<Figure size 432x288 with 1 Axes>"
      ]
     },
     "metadata": {
      "needs_background": "light"
     },
     "output_type": "display_data"
    }
   ],
   "source": [
    "sn.distplot(turbine['CO'],kde=False)"
   ]
  },
  {
   "cell_type": "code",
   "execution_count": 28,
   "metadata": {
    "ExecuteTime": {
     "end_time": "2021-04-27T11:10:34.049116Z",
     "start_time": "2021-04-27T11:10:33.920966Z"
    }
   },
   "outputs": [
    {
     "name": "stderr",
     "output_type": "stream",
     "text": [
      "C:\\Users\\91982\\Anaconda3\\lib\\site-packages\\seaborn\\_decorators.py:43: FutureWarning: Pass the following variable as a keyword arg: x. From version 0.12, the only valid positional argument will be `data`, and passing other arguments without an explicit keyword will result in an error or misinterpretation.\n",
      "  FutureWarning\n"
     ]
    },
    {
     "data": {
      "text/plain": [
       "<AxesSubplot:xlabel='NOX'>"
      ]
     },
     "execution_count": 28,
     "metadata": {},
     "output_type": "execute_result"
    },
    {
     "data": {
      "image/png": "[encoded data removed]",
      "text/plain": [
       "<Figure size 432x288 with 1 Axes>"
      ]
     },
     "metadata": {
      "needs_background": "light"
     },
     "output_type": "display_data"
    }
   ],
   "source": [
    "sn.boxplot(turbine['NOX'])"
   ]
  },
  {
   "cell_type": "code",
   "execution_count": 29,
   "metadata": {
    "ExecuteTime": {
     "end_time": "2021-04-27T11:10:34.396549Z",
     "start_time": "2021-04-27T11:10:34.052692Z"
    }
   },
   "outputs": [
    {
     "name": "stderr",
     "output_type": "stream",
     "text": [
      "C:\\Users\\91982\\Anaconda3\\lib\\site-packages\\seaborn\\distributions.py:2557: FutureWarning: `distplot` is a deprecated function and will be removed in a future version. Please adapt your code to use either `displot` (a figure-level function with similar flexibility) or `histplot` (an axes-level function for histograms).\n",
      "  warnings.warn(msg, FutureWarning)\n"
     ]
    },
    {
     "data": {
      "text/plain": [
       "<AxesSubplot:xlabel='NOX'>"
      ]
     },
     "execution_count": 29,
     "metadata": {},
     "output_type": "execute_result"
    },
    {
     "data": {
      "image/png": "[encoded data removed]",
      "text/plain": [
       "<Figure size 432x288 with 1 Axes>"
      ]
     },
     "metadata": {
      "needs_background": "light"
     },
     "output_type": "display_data"
    }
   ],
   "source": [
    "sn.distplot(turbine['NOX'],kde=False)"
   ]
  },
  {
   "cell_type": "markdown",
   "metadata": {},
   "source": [
    "### Observations :- \n",
    "\n",
    "1. We could see there are few outliers in our dataset and also the data is skewed \n"
   ]
  },
  {
   "cell_type": "markdown",
   "metadata": {},
   "source": [
    "### Heatmap"
   ]
  },
  {
   "cell_type": "markdown",
   "metadata": {},
   "source": [
    "##### Heatmap is a very effective technique to check the missing values in the dataset and to also understand if there is any correlation between the features of the data"
   ]
  },
  {
   "cell_type": "code",
   "execution_count": 30,
   "metadata": {
    "ExecuteTime": {
     "end_time": "2021-04-27T11:10:35.168768Z",
     "start_time": "2021-04-27T11:10:34.399050Z"
    }
   },
   "outputs": [
    {
     "data": {
      "text/plain": [
       "<AxesSubplot:>"
      ]
     },
     "execution_count": 30,
     "metadata": {},
     "output_type": "execute_result"
    },
    {
     "data": {
      "image/png": "[encoded data removed]",
      "text/plain": [
       "<Figure size 432x288 with 2 Axes>"
      ]
     },
     "metadata": {
      "needs_background": "light"
     },
     "output_type": "display_data"
    }
   ],
   "source": [
    "sn.heatmap(turbine.isnull())"
   ]
  },
  {
   "cell_type": "markdown",
   "metadata": {},
   "source": [
    "##### We don't have any missing values in our dataset. If it was present, there would be a different colour shade appearing on the red background. "
   ]
  },
  {
   "cell_type": "markdown",
   "metadata": {},
   "source": [
    "# Separating feature data and Label data  and train-test split"
   ]
  },
  {
   "cell_type": "code",
   "execution_count": 31,
   "metadata": {
    "ExecuteTime": {
     "end_time": "2021-04-27T11:10:35.184456Z",
     "start_time": "2021-04-27T11:10:35.170762Z"
    }
   },
   "outputs": [],
   "source": [
    "X = turbine.drop([\"TEY\"], axis = 1)\n",
    "           \n",
    "Y = turbine['TEY']\n",
    "\n",
    "X_train, X_test, Y_train, Y_test = train_test_split(X, Y, test_size = .3, random_state = 30)"
   ]
  },
  {
   "cell_type": "code",
   "execution_count": 32,
   "metadata": {
    "ExecuteTime": {
     "end_time": "2021-04-27T11:10:35.226446Z",
     "start_time": "2021-04-27T11:10:35.187450Z"
    }
   },
   "outputs": [
    {
     "data": {
      "text/html": [
       "<div>\n",
       "<style scoped>\n",
       "    .dataframe tbody tr th:only-of-type {\n",
       "        vertical-align: middle;\n",
       "    }\n",
       "\n",
       "    .dataframe tbody tr th {\n",
       "        vertical-align: top;\n",
       "    }\n",
       "\n",
       "    .dataframe thead th {\n",
       "        text-align: right;\n",
       "    }\n",
       "</style>\n",
       "<table border=\"1\" class=\"dataframe\">\n",
       "  <thead>\n",
       "    <tr style=\"text-align: right;\">\n",
       "      <th></th>\n",
       "      <th>AT</th>\n",
       "      <th>AP</th>\n",
       "      <th>AH</th>\n",
       "      <th>AFDP</th>\n",
       "      <th>GTEP</th>\n",
       "      <th>TIT</th>\n",
       "      <th>TAT</th>\n",
       "      <th>CDP</th>\n",
       "      <th>CO</th>\n",
       "      <th>NOX</th>\n",
       "    </tr>\n",
       "  </thead>\n",
       "  <tbody>\n",
       "    <tr>\n",
       "      <th>8657</th>\n",
       "      <td>10.3710</td>\n",
       "      <td>1013.2</td>\n",
       "      <td>79.248</td>\n",
       "      <td>5.3459</td>\n",
       "      <td>32.504</td>\n",
       "      <td>1100.0</td>\n",
       "      <td>529.88</td>\n",
       "      <td>13.927</td>\n",
       "      <td>0.53957</td>\n",
       "      <td>69.077</td>\n",
       "    </tr>\n",
       "    <tr>\n",
       "      <th>1247</th>\n",
       "      <td>8.8245</td>\n",
       "      <td>1025.3</td>\n",
       "      <td>84.123</td>\n",
       "      <td>3.9071</td>\n",
       "      <td>19.568</td>\n",
       "      <td>1047.9</td>\n",
       "      <td>543.61</td>\n",
       "      <td>10.564</td>\n",
       "      <td>5.55750</td>\n",
       "      <td>104.330</td>\n",
       "    </tr>\n",
       "    <tr>\n",
       "      <th>11304</th>\n",
       "      <td>26.1200</td>\n",
       "      <td>1013.8</td>\n",
       "      <td>64.292</td>\n",
       "      <td>3.7668</td>\n",
       "      <td>25.472</td>\n",
       "      <td>1091.6</td>\n",
       "      <td>549.91</td>\n",
       "      <td>12.181</td>\n",
       "      <td>0.72197</td>\n",
       "      <td>63.585</td>\n",
       "    </tr>\n",
       "    <tr>\n",
       "      <th>8857</th>\n",
       "      <td>5.7492</td>\n",
       "      <td>1016.4</td>\n",
       "      <td>84.679</td>\n",
       "      <td>4.2248</td>\n",
       "      <td>23.888</td>\n",
       "      <td>1087.2</td>\n",
       "      <td>550.00</td>\n",
       "      <td>12.013</td>\n",
       "      <td>0.33097</td>\n",
       "      <td>83.428</td>\n",
       "    </tr>\n",
       "    <tr>\n",
       "      <th>8812</th>\n",
       "      <td>5.7551</td>\n",
       "      <td>1012.5</td>\n",
       "      <td>92.997</td>\n",
       "      <td>5.3251</td>\n",
       "      <td>32.578</td>\n",
       "      <td>1100.0</td>\n",
       "      <td>528.18</td>\n",
       "      <td>14.113</td>\n",
       "      <td>0.79035</td>\n",
       "      <td>66.038</td>\n",
       "    </tr>\n",
       "    <tr>\n",
       "      <th>...</th>\n",
       "      <td>...</td>\n",
       "      <td>...</td>\n",
       "      <td>...</td>\n",
       "      <td>...</td>\n",
       "      <td>...</td>\n",
       "      <td>...</td>\n",
       "      <td>...</td>\n",
       "      <td>...</td>\n",
       "      <td>...</td>\n",
       "      <td>...</td>\n",
       "    </tr>\n",
       "    <tr>\n",
       "      <th>13452</th>\n",
       "      <td>23.1540</td>\n",
       "      <td>1014.0</td>\n",
       "      <td>71.004</td>\n",
       "      <td>4.4694</td>\n",
       "      <td>28.885</td>\n",
       "      <td>1100.4</td>\n",
       "      <td>543.40</td>\n",
       "      <td>12.992</td>\n",
       "      <td>1.14260</td>\n",
       "      <td>61.138</td>\n",
       "    </tr>\n",
       "    <tr>\n",
       "      <th>500</th>\n",
       "      <td>2.8258</td>\n",
       "      <td>1009.1</td>\n",
       "      <td>81.773</td>\n",
       "      <td>5.0467</td>\n",
       "      <td>29.647</td>\n",
       "      <td>1099.9</td>\n",
       "      <td>541.14</td>\n",
       "      <td>13.210</td>\n",
       "      <td>0.16464</td>\n",
       "      <td>79.371</td>\n",
       "    </tr>\n",
       "    <tr>\n",
       "      <th>12077</th>\n",
       "      <td>31.3320</td>\n",
       "      <td>1014.2</td>\n",
       "      <td>49.275</td>\n",
       "      <td>4.4837</td>\n",
       "      <td>29.665</td>\n",
       "      <td>1099.5</td>\n",
       "      <td>541.85</td>\n",
       "      <td>13.211</td>\n",
       "      <td>0.87442</td>\n",
       "      <td>58.806</td>\n",
       "    </tr>\n",
       "    <tr>\n",
       "      <th>4517</th>\n",
       "      <td>28.5630</td>\n",
       "      <td>1009.9</td>\n",
       "      <td>64.346</td>\n",
       "      <td>4.3587</td>\n",
       "      <td>26.438</td>\n",
       "      <td>1094.3</td>\n",
       "      <td>549.97</td>\n",
       "      <td>12.290</td>\n",
       "      <td>0.48279</td>\n",
       "      <td>62.532</td>\n",
       "    </tr>\n",
       "    <tr>\n",
       "      <th>5925</th>\n",
       "      <td>21.1160</td>\n",
       "      <td>1012.1</td>\n",
       "      <td>86.218</td>\n",
       "      <td>4.4351</td>\n",
       "      <td>25.283</td>\n",
       "      <td>1089.3</td>\n",
       "      <td>550.16</td>\n",
       "      <td>12.047</td>\n",
       "      <td>2.22070</td>\n",
       "      <td>60.612</td>\n",
       "    </tr>\n",
       "  </tbody>\n",
       "</table>\n",
       "<p>10527 rows × 10 columns</p>\n",
       "</div>"
      ],
      "text/plain": [
       "            AT      AP      AH    AFDP    GTEP     TIT     TAT     CDP  \\\n",
       "8657   10.3710  1013.2  79.248  5.3459  32.504  1100.0  529.88  13.927   \n",
       "1247    8.8245  1025.3  84.123  3.9071  19.568  1047.9  543.61  10.564   \n",
       "11304  26.1200  1013.8  64.292  3.7668  25.472  1091.6  549.91  12.181   \n",
       "8857    5.7492  1016.4  84.679  4.2248  23.888  1087.2  550.00  12.013   \n",
       "8812    5.7551  1012.5  92.997  5.3251  32.578  1100.0  528.18  14.113   \n",
       "...        ...     ...     ...     ...     ...     ...     ...     ...   \n",
       "13452  23.1540  1014.0  71.004  4.4694  28.885  1100.4  543.40  12.992   \n",
       "500     2.8258  1009.1  81.773  5.0467  29.647  1099.9  541.14  13.210   \n",
       "12077  31.3320  1014.2  49.275  4.4837  29.665  1099.5  541.85  13.211   \n",
       "4517   28.5630  1009.9  64.346  4.3587  26.438  1094.3  549.97  12.290   \n",
       "5925   21.1160  1012.1  86.218  4.4351  25.283  1089.3  550.16  12.047   \n",
       "\n",
       "            CO      NOX  \n",
       "8657   0.53957   69.077  \n",
       "1247   5.55750  104.330  \n",
       "11304  0.72197   63.585  \n",
       "8857   0.33097   83.428  \n",
       "8812   0.79035   66.038  \n",
       "...        ...      ...  \n",
       "13452  1.14260   61.138  \n",
       "500    0.16464   79.371  \n",
       "12077  0.87442   58.806  \n",
       "4517   0.48279   62.532  \n",
       "5925   2.22070   60.612  \n",
       "\n",
       "[10527 rows x 10 columns]"
      ]
     },
     "execution_count": 32,
     "metadata": {},
     "output_type": "execute_result"
    }
   ],
   "source": [
    "X_train"
   ]
  },
  {
   "cell_type": "code",
   "execution_count": 33,
   "metadata": {
    "ExecuteTime": {
     "end_time": "2021-04-27T11:10:35.242303Z",
     "start_time": "2021-04-27T11:10:35.228441Z"
    }
   },
   "outputs": [
    {
     "data": {
      "text/plain": [
       "8657     160.70\n",
       "1247     111.70\n",
       "11304    133.80\n",
       "8857     134.46\n",
       "8812     164.57\n",
       "          ...  \n",
       "13452    146.73\n",
       "500      156.47\n",
       "12077    146.47\n",
       "4517     134.75\n",
       "5925     133.64\n",
       "Name: TEY, Length: 10527, dtype: float64"
      ]
     },
     "execution_count": 33,
     "metadata": {},
     "output_type": "execute_result"
    }
   ],
   "source": [
    "Y_train"
   ]
  },
  {
   "cell_type": "code",
   "execution_count": 34,
   "metadata": {
    "ExecuteTime": {
     "end_time": "2021-04-27T11:10:35.276790Z",
     "start_time": "2021-04-27T11:10:35.244915Z"
    }
   },
   "outputs": [
    {
     "data": {
      "text/html": [
       "<div>\n",
       "<style scoped>\n",
       "    .dataframe tbody tr th:only-of-type {\n",
       "        vertical-align: middle;\n",
       "    }\n",
       "\n",
       "    .dataframe tbody tr th {\n",
       "        vertical-align: top;\n",
       "    }\n",
       "\n",
       "    .dataframe thead th {\n",
       "        text-align: right;\n",
       "    }\n",
       "</style>\n",
       "<table border=\"1\" class=\"dataframe\">\n",
       "  <thead>\n",
       "    <tr style=\"text-align: right;\">\n",
       "      <th></th>\n",
       "      <th>AT</th>\n",
       "      <th>AP</th>\n",
       "      <th>AH</th>\n",
       "      <th>AFDP</th>\n",
       "      <th>GTEP</th>\n",
       "      <th>TIT</th>\n",
       "      <th>TAT</th>\n",
       "      <th>CDP</th>\n",
       "      <th>CO</th>\n",
       "      <th>NOX</th>\n",
       "    </tr>\n",
       "  </thead>\n",
       "  <tbody>\n",
       "    <tr>\n",
       "      <th>3390</th>\n",
       "      <td>29.2670</td>\n",
       "      <td>1012.4</td>\n",
       "      <td>43.795</td>\n",
       "      <td>4.2298</td>\n",
       "      <td>26.061</td>\n",
       "      <td>1093.2</td>\n",
       "      <td>550.06</td>\n",
       "      <td>12.206</td>\n",
       "      <td>1.64120</td>\n",
       "      <td>71.559</td>\n",
       "    </tr>\n",
       "    <tr>\n",
       "      <th>1194</th>\n",
       "      <td>11.5230</td>\n",
       "      <td>1024.4</td>\n",
       "      <td>88.089</td>\n",
       "      <td>4.3647</td>\n",
       "      <td>22.037</td>\n",
       "      <td>1069.2</td>\n",
       "      <td>548.48</td>\n",
       "      <td>11.221</td>\n",
       "      <td>2.42510</td>\n",
       "      <td>76.116</td>\n",
       "    </tr>\n",
       "    <tr>\n",
       "      <th>13890</th>\n",
       "      <td>15.2260</td>\n",
       "      <td>1019.0</td>\n",
       "      <td>84.659</td>\n",
       "      <td>3.8886</td>\n",
       "      <td>24.045</td>\n",
       "      <td>1087.1</td>\n",
       "      <td>549.91</td>\n",
       "      <td>11.938</td>\n",
       "      <td>1.70650</td>\n",
       "      <td>75.188</td>\n",
       "    </tr>\n",
       "    <tr>\n",
       "      <th>5570</th>\n",
       "      <td>27.3820</td>\n",
       "      <td>1016.1</td>\n",
       "      <td>61.555</td>\n",
       "      <td>4.4794</td>\n",
       "      <td>26.085</td>\n",
       "      <td>1093.7</td>\n",
       "      <td>550.04</td>\n",
       "      <td>12.337</td>\n",
       "      <td>1.38720</td>\n",
       "      <td>66.656</td>\n",
       "    </tr>\n",
       "    <tr>\n",
       "      <th>6190</th>\n",
       "      <td>19.1010</td>\n",
       "      <td>1008.6</td>\n",
       "      <td>83.062</td>\n",
       "      <td>4.3643</td>\n",
       "      <td>25.352</td>\n",
       "      <td>1089.7</td>\n",
       "      <td>550.16</td>\n",
       "      <td>12.030</td>\n",
       "      <td>2.47550</td>\n",
       "      <td>68.209</td>\n",
       "    </tr>\n",
       "    <tr>\n",
       "      <th>...</th>\n",
       "      <td>...</td>\n",
       "      <td>...</td>\n",
       "      <td>...</td>\n",
       "      <td>...</td>\n",
       "      <td>...</td>\n",
       "      <td>...</td>\n",
       "      <td>...</td>\n",
       "      <td>...</td>\n",
       "      <td>...</td>\n",
       "      <td>...</td>\n",
       "    </tr>\n",
       "    <tr>\n",
       "      <th>2257</th>\n",
       "      <td>18.9440</td>\n",
       "      <td>1014.1</td>\n",
       "      <td>89.131</td>\n",
       "      <td>5.1693</td>\n",
       "      <td>24.526</td>\n",
       "      <td>1085.5</td>\n",
       "      <td>550.14</td>\n",
       "      <td>11.883</td>\n",
       "      <td>4.45670</td>\n",
       "      <td>66.682</td>\n",
       "    </tr>\n",
       "    <tr>\n",
       "      <th>5628</th>\n",
       "      <td>19.5830</td>\n",
       "      <td>1015.7</td>\n",
       "      <td>96.398</td>\n",
       "      <td>4.9962</td>\n",
       "      <td>26.867</td>\n",
       "      <td>1098.8</td>\n",
       "      <td>549.54</td>\n",
       "      <td>12.571</td>\n",
       "      <td>0.90150</td>\n",
       "      <td>68.560</td>\n",
       "    </tr>\n",
       "    <tr>\n",
       "      <th>11140</th>\n",
       "      <td>23.4840</td>\n",
       "      <td>1013.7</td>\n",
       "      <td>83.599</td>\n",
       "      <td>3.7478</td>\n",
       "      <td>25.292</td>\n",
       "      <td>1090.6</td>\n",
       "      <td>550.39</td>\n",
       "      <td>12.123</td>\n",
       "      <td>0.36809</td>\n",
       "      <td>68.403</td>\n",
       "    </tr>\n",
       "    <tr>\n",
       "      <th>14565</th>\n",
       "      <td>7.0032</td>\n",
       "      <td>1024.3</td>\n",
       "      <td>83.088</td>\n",
       "      <td>3.7814</td>\n",
       "      <td>22.643</td>\n",
       "      <td>1078.7</td>\n",
       "      <td>550.09</td>\n",
       "      <td>11.591</td>\n",
       "      <td>2.13770</td>\n",
       "      <td>83.309</td>\n",
       "    </tr>\n",
       "    <tr>\n",
       "      <th>8048</th>\n",
       "      <td>12.0350</td>\n",
       "      <td>1015.3</td>\n",
       "      <td>85.392</td>\n",
       "      <td>4.9852</td>\n",
       "      <td>33.011</td>\n",
       "      <td>1099.9</td>\n",
       "      <td>528.33</td>\n",
       "      <td>14.075</td>\n",
       "      <td>0.11198</td>\n",
       "      <td>63.198</td>\n",
       "    </tr>\n",
       "  </tbody>\n",
       "</table>\n",
       "<p>4512 rows × 10 columns</p>\n",
       "</div>"
      ],
      "text/plain": [
       "            AT      AP      AH    AFDP    GTEP     TIT     TAT     CDP  \\\n",
       "3390   29.2670  1012.4  43.795  4.2298  26.061  1093.2  550.06  12.206   \n",
       "1194   11.5230  1024.4  88.089  4.3647  22.037  1069.2  548.48  11.221   \n",
       "13890  15.2260  1019.0  84.659  3.8886  24.045  1087.1  549.91  11.938   \n",
       "5570   27.3820  1016.1  61.555  4.4794  26.085  1093.7  550.04  12.337   \n",
       "6190   19.1010  1008.6  83.062  4.3643  25.352  1089.7  550.16  12.030   \n",
       "...        ...     ...     ...     ...     ...     ...     ...     ...   \n",
       "2257   18.9440  1014.1  89.131  5.1693  24.526  1085.5  550.14  11.883   \n",
       "5628   19.5830  1015.7  96.398  4.9962  26.867  1098.8  549.54  12.571   \n",
       "11140  23.4840  1013.7  83.599  3.7478  25.292  1090.6  550.39  12.123   \n",
       "14565   7.0032  1024.3  83.088  3.7814  22.643  1078.7  550.09  11.591   \n",
       "8048   12.0350  1015.3  85.392  4.9852  33.011  1099.9  528.33  14.075   \n",
       "\n",
       "            CO     NOX  \n",
       "3390   1.64120  71.559  \n",
       "1194   2.42510  76.116  \n",
       "13890  1.70650  75.188  \n",
       "5570   1.38720  66.656  \n",
       "6190   2.47550  68.209  \n",
       "...        ...     ...  \n",
       "2257   4.45670  66.682  \n",
       "5628   0.90150  68.560  \n",
       "11140  0.36809  68.403  \n",
       "14565  2.13770  83.309  \n",
       "8048   0.11198  63.198  \n",
       "\n",
       "[4512 rows x 10 columns]"
      ]
     },
     "execution_count": 34,
     "metadata": {},
     "output_type": "execute_result"
    }
   ],
   "source": [
    "X_test"
   ]
  },
  {
   "cell_type": "code",
   "execution_count": 35,
   "metadata": {
    "ExecuteTime": {
     "end_time": "2021-04-27T11:10:35.300657Z",
     "start_time": "2021-04-27T11:10:35.278791Z"
    }
   },
   "outputs": [
    {
     "data": {
      "text/plain": [
       "3390     132.78\n",
       "1194     122.78\n",
       "13890    133.78\n",
       "5570     133.76\n",
       "6190     134.26\n",
       "          ...  \n",
       "2257     131.16\n",
       "5628     141.54\n",
       "11140    133.82\n",
       "14565    130.25\n",
       "8048     160.95\n",
       "Name: TEY, Length: 4512, dtype: float64"
      ]
     },
     "execution_count": 35,
     "metadata": {},
     "output_type": "execute_result"
    }
   ],
   "source": [
    "Y_test"
   ]
  },
  {
   "cell_type": "code",
   "execution_count": 36,
   "metadata": {
    "ExecuteTime": {
     "end_time": "2021-04-27T11:10:35.316018Z",
     "start_time": "2021-04-27T11:10:35.302653Z"
    }
   },
   "outputs": [
    {
     "data": {
      "text/plain": [
       "array([160.7 , 111.7 , 133.8 , ..., 146.47, 134.75, 133.64])"
      ]
     },
     "execution_count": 36,
     "metadata": {},
     "output_type": "execute_result"
    }
   ],
   "source": [
    "Y_train = np.array(Y_train)\n",
    "Y_train"
   ]
  },
  {
   "cell_type": "code",
   "execution_count": 37,
   "metadata": {
    "ExecuteTime": {
     "end_time": "2021-04-27T11:10:35.344817Z",
     "start_time": "2021-04-27T11:10:35.318011Z"
    }
   },
   "outputs": [
    {
     "data": {
      "text/plain": [
       "array([132.78, 122.78, 133.78, ..., 133.82, 130.25, 160.95])"
      ]
     },
     "execution_count": 37,
     "metadata": {},
     "output_type": "execute_result"
    }
   ],
   "source": [
    "Y_test = np.array(Y_test)\n",
    "Y_test"
   ]
  },
  {
   "cell_type": "markdown",
   "metadata": {},
   "source": [
    "# Normalizing our data to make it consistent and scale-free"
   ]
  },
  {
   "cell_type": "code",
   "execution_count": 38,
   "metadata": {
    "ExecuteTime": {
     "end_time": "2021-04-27T11:10:35.369432Z",
     "start_time": "2021-04-27T11:10:35.346830Z"
    }
   },
   "outputs": [],
   "source": [
    "from sklearn.preprocessing import MinMaxScaler\n",
    "\n",
    "# fit scaler on training data\n",
    "norm = MinMaxScaler().fit(X_train)\n",
    "\n",
    "# transform training data\n",
    "X_train_norm = norm.transform(X_train)\n",
    "\n",
    "# transform testing dataabs\n",
    "X_test_norm = norm.transform(X_test)"
   ]
  },
  {
   "cell_type": "code",
   "execution_count": 39,
   "metadata": {
    "ExecuteTime": {
     "end_time": "2021-04-27T11:10:35.385514Z",
     "start_time": "2021-04-27T11:10:35.373421Z"
    }
   },
   "outputs": [
    {
     "data": {
      "text/plain": [
       "(10527, 10)"
      ]
     },
     "execution_count": 39,
     "metadata": {},
     "output_type": "execute_result"
    }
   ],
   "source": [
    "X_train_norm.shape"
   ]
  },
  {
   "cell_type": "code",
   "execution_count": 40,
   "metadata": {
    "ExecuteTime": {
     "end_time": "2021-04-27T11:10:35.401285Z",
     "start_time": "2021-04-27T11:10:35.391769Z"
    }
   },
   "outputs": [
    {
     "data": {
      "text/plain": [
       "(4512, 10)"
      ]
     },
     "execution_count": 40,
     "metadata": {},
     "output_type": "execute_result"
    }
   ],
   "source": [
    "X_test_norm.shape"
   ]
  },
  {
   "cell_type": "code",
   "execution_count": 41,
   "metadata": {
    "ExecuteTime": {
     "end_time": "2021-04-27T11:10:35.425834Z",
     "start_time": "2021-04-27T11:10:35.407586Z"
    }
   },
   "outputs": [
    {
     "data": {
      "text/plain": [
       "(10527,)"
      ]
     },
     "execution_count": 41,
     "metadata": {},
     "output_type": "execute_result"
    }
   ],
   "source": [
    "Y_train.shape"
   ]
  },
  {
   "cell_type": "code",
   "execution_count": 42,
   "metadata": {
    "ExecuteTime": {
     "end_time": "2021-04-27T11:10:35.441331Z",
     "start_time": "2021-04-27T11:10:35.428931Z"
    }
   },
   "outputs": [
    {
     "data": {
      "text/plain": [
       "(4512,)"
      ]
     },
     "execution_count": 42,
     "metadata": {},
     "output_type": "execute_result"
    }
   ],
   "source": [
    "Y_test.shape"
   ]
  },
  {
   "cell_type": "markdown",
   "metadata": {},
   "source": [
    "# Using Neural network for prediction"
   ]
  },
  {
   "cell_type": "code",
   "execution_count": 43,
   "metadata": {
    "ExecuteTime": {
     "end_time": "2021-04-27T11:10:35.469031Z",
     "start_time": "2021-04-27T11:10:35.444544Z"
    }
   },
   "outputs": [
    {
     "data": {
      "text/plain": [
       "'estimators = []\\nestimators.append((\\'standardize\\', StandardScaler()))\\nestimators.append((\\'mlp\\', KerasRegressor(build_fn=baseline_model, epochs=500, batch_size=100, verbose=0)))\\npipeline = Pipeline(estimators)\\nkfold = KFold(n_splits=10)\\nresults = cross_val_score(pipeline, X_train_norm, Y_train, cv=kfold)\\nprint(results)\\nprint(\"Standardized: %.2f (%.2f) MSE\" % (results.mean(), results.std()))'"
      ]
     },
     "execution_count": 43,
     "metadata": {},
     "output_type": "execute_result"
    }
   ],
   "source": [
    "\n",
    "def baseline_model():\n",
    "    model = Sequential()\n",
    "    model.add(Dense(13, input_dim=10, kernel_initializer='normal', activation='relu'))\n",
    "    model.add(Dense(1, kernel_initializer='normal'))\n",
    "    model.compile(loss='mean_squared_error', optimizer='adam')\n",
    "    return model\n"
   ]
  },
  {
   "cell_type": "code",
   "execution_count": 44,
   "metadata": {
    "ExecuteTime": {
     "end_time": "2021-04-27T11:10:35.484342Z",
     "start_time": "2021-04-27T11:10:35.473030Z"
    }
   },
   "outputs": [],
   "source": [
    "estimator = KerasRegressor(build_fn=baseline_model, epochs=500, batch_size=100, verbose=1)"
   ]
  },
  {
   "cell_type": "code",
   "execution_count": 45,
   "metadata": {
    "ExecuteTime": {
     "end_time": "2021-04-27T11:11:58.204603Z",
     "start_time": "2021-04-27T11:10:35.489583Z"
    }
   },
   "outputs": [
    {
     "name": "stdout",
     "output_type": "stream",
     "text": [
      "Epoch 1/500\n",
      "106/106 [==============================] - 1s 2ms/step - loss: 18226.9043\n",
      "Epoch 2/500\n",
      "106/106 [==============================] - 0s 1ms/step - loss: 17869.0805\n",
      "Epoch 3/500\n",
      "106/106 [==============================] - 0s 2ms/step - loss: 16823.0714\n",
      "Epoch 4/500\n",
      "106/106 [==============================] - 0s 2ms/step - loss: 15322.9901\n",
      "Epoch 5/500\n",
      "106/106 [==============================] - 0s 2ms/step - loss: 13550.6015\n",
      "Epoch 6/500\n",
      "106/106 [==============================] - 0s 2ms/step - loss: 11553.7272\n",
      "Epoch 7/500\n",
      "106/106 [==============================] - 0s 2ms/step - loss: 9340.7640\n",
      "Epoch 8/500\n",
      "106/106 [==============================] - 0s 2ms/step - loss: 7274.0843\n",
      "Epoch 9/500\n",
      "106/106 [==============================] - 0s 2ms/step - loss: 5405.6862\n",
      "Epoch 10/500\n",
      "106/106 [==============================] - 0s 2ms/step - loss: 3828.1566\n",
      "Epoch 11/500\n",
      "106/106 [==============================] - 0s 2ms/step - loss: 2566.9170\n",
      "Epoch 12/500\n",
      "106/106 [==============================] - 0s 2ms/step - loss: 1616.1889\n",
      "Epoch 13/500\n",
      "106/106 [==============================] - 0s 2ms/step - loss: 969.0620\n",
      "Epoch 14/500\n",
      "106/106 [==============================] - 0s 3ms/step - loss: 558.1810\n",
      "Epoch 15/500\n",
      "106/106 [==============================] - 0s 3ms/step - loss: 313.4653\n",
      "Epoch 16/500\n",
      "106/106 [==============================] - 0s 3ms/step - loss: 185.7118\n",
      "Epoch 17/500\n",
      "106/106 [==============================] - 0s 3ms/step - loss: 121.9517\n",
      "Epoch 18/500\n",
      "106/106 [==============================] - 0s 3ms/step - loss: 89.8059\n",
      "Epoch 19/500\n",
      "106/106 [==============================] - 0s 3ms/step - loss: 80.9324\n",
      "Epoch 20/500\n",
      "106/106 [==============================] - 0s 3ms/step - loss: 72.8033\n",
      "Epoch 21/500\n",
      "106/106 [==============================] - 0s 3ms/step - loss: 73.0621\n",
      "Epoch 22/500\n",
      "106/106 [==============================] - 0s 3ms/step - loss: 71.1696\n",
      "Epoch 23/500\n",
      "106/106 [==============================] - 0s 3ms/step - loss: 67.8271\n",
      "Epoch 24/500\n",
      "106/106 [==============================] - 0s 2ms/step - loss: 68.9082\n",
      "Epoch 25/500\n",
      "106/106 [==============================] - 0s 3ms/step - loss: 66.6732\n",
      "Epoch 26/500\n",
      "106/106 [==============================] - 0s 3ms/step - loss: 65.8543\n",
      "Epoch 27/500\n",
      "106/106 [==============================] - 0s 3ms/step - loss: 64.3641\n",
      "Epoch 28/500\n",
      "106/106 [==============================] - 0s 2ms/step - loss: 63.0314\n",
      "Epoch 29/500\n",
      "106/106 [==============================] - 0s 1ms/step - loss: 60.1224\n",
      "Epoch 30/500\n",
      "106/106 [==============================] - 0s 2ms/step - loss: 60.8160\n",
      "Epoch 31/500\n",
      "106/106 [==============================] - 0s 3ms/step - loss: 58.2482\n",
      "Epoch 32/500\n",
      "106/106 [==============================] - 0s 3ms/step - loss: 56.7771\n",
      "Epoch 33/500\n",
      "106/106 [==============================] - 0s 3ms/step - loss: 56.3694\n",
      "Epoch 34/500\n",
      "106/106 [==============================] - 0s 3ms/step - loss: 54.4354\n",
      "Epoch 35/500\n",
      "106/106 [==============================] - 0s 3ms/step - loss: 52.0592\n",
      "Epoch 36/500\n",
      "106/106 [==============================] - 0s 2ms/step - loss: 52.0267\n",
      "Epoch 37/500\n",
      "106/106 [==============================] - 0s 2ms/step - loss: 50.4907\n",
      "Epoch 38/500\n",
      "106/106 [==============================] - 0s 3ms/step - loss: 49.4362\n",
      "Epoch 39/500\n",
      "106/106 [==============================] - 0s 2ms/step - loss: 47.2642\n",
      "Epoch 40/500\n",
      "106/106 [==============================] - 0s 2ms/step - loss: 46.5698\n",
      "Epoch 41/500\n",
      "106/106 [==============================] - 0s 1ms/step - loss: 45.2378\n",
      "Epoch 42/500\n",
      "106/106 [==============================] - 0s 1ms/step - loss: 44.1991\n",
      "Epoch 43/500\n",
      "106/106 [==============================] - 0s 1ms/step - loss: 42.2664\n",
      "Epoch 44/500\n",
      "106/106 [==============================] - 0s 992us/step - loss: 40.7800\n",
      "Epoch 45/500\n",
      "106/106 [==============================] - 0s 1ms/step - loss: 40.1205\n",
      "Epoch 46/500\n",
      "106/106 [==============================] - 0s 974us/step - loss: 38.9481\n",
      "Epoch 47/500\n",
      "106/106 [==============================] - 0s 976us/step - loss: 39.0067\n",
      "Epoch 48/500\n",
      "106/106 [==============================] - 0s 1ms/step - loss: 36.2250\n",
      "Epoch 49/500\n",
      "106/106 [==============================] - 0s 1ms/step - loss: 35.4185\n",
      "Epoch 50/500\n",
      "106/106 [==============================] - 0s 969us/step - loss: 34.3508\n",
      "Epoch 51/500\n",
      "106/106 [==============================] - 0s 1ms/step - loss: 33.5341\n",
      "Epoch 52/500\n",
      "106/106 [==============================] - 0s 983us/step - loss: 32.9913\n",
      "Epoch 53/500\n",
      "106/106 [==============================] - 0s 1ms/step - loss: 32.7377\n",
      "Epoch 54/500\n",
      "106/106 [==============================] - 0s 955us/step - loss: 32.6553\n",
      "Epoch 55/500\n",
      "106/106 [==============================] - 0s 961us/step - loss: 32.0065\n",
      "Epoch 56/500\n",
      "106/106 [==============================] - 0s 973us/step - loss: 30.6662\n",
      "Epoch 57/500\n",
      "106/106 [==============================] - 0s 952us/step - loss: 29.5654\n",
      "Epoch 58/500\n",
      "106/106 [==============================] - 0s 947us/step - loss: 29.2136\n",
      "Epoch 59/500\n",
      "106/106 [==============================] - 0s 938us/step - loss: 28.6069\n",
      "Epoch 60/500\n",
      "106/106 [==============================] - 0s 966us/step - loss: 28.6138\n",
      "Epoch 61/500\n",
      "106/106 [==============================] - 0s 966us/step - loss: 28.3376\n",
      "Epoch 62/500\n",
      "106/106 [==============================] - 0s 951us/step - loss: 28.3193\n",
      "Epoch 63/500\n",
      "106/106 [==============================] - 0s 970us/step - loss: 27.4235\n",
      "Epoch 64/500\n",
      "106/106 [==============================] - 0s 932us/step - loss: 27.6330\n",
      "Epoch 65/500\n",
      "106/106 [==============================] - 0s 912us/step - loss: 26.5862\n",
      "Epoch 66/500\n",
      "106/106 [==============================] - 0s 903us/step - loss: 26.4329\n",
      "Epoch 67/500\n",
      "106/106 [==============================] - 0s 920us/step - loss: 25.7491\n",
      "Epoch 68/500\n",
      "106/106 [==============================] - 0s 923us/step - loss: 25.2406\n",
      "Epoch 69/500\n",
      "106/106 [==============================] - 0s 927us/step - loss: 25.3551\n",
      "Epoch 70/500\n",
      "106/106 [==============================] - 0s 946us/step - loss: 25.3060\n",
      "Epoch 71/500\n",
      "106/106 [==============================] - 0s 923us/step - loss: 24.6322\n",
      "Epoch 72/500\n",
      "106/106 [==============================] - 0s 910us/step - loss: 25.2267\n",
      "Epoch 73/500\n",
      "106/106 [==============================] - 0s 916us/step - loss: 24.2883\n",
      "Epoch 74/500\n",
      "106/106 [==============================] - 0s 969us/step - loss: 25.1298\n",
      "Epoch 75/500\n",
      "106/106 [==============================] - 0s 960us/step - loss: 23.9453\n",
      "Epoch 76/500\n",
      "106/106 [==============================] - 0s 957us/step - loss: 24.4424\n",
      "Epoch 77/500\n",
      "106/106 [==============================] - 0s 950us/step - loss: 23.5166\n",
      "Epoch 78/500\n",
      "106/106 [==============================] - 0s 957us/step - loss: 23.3526\n",
      "Epoch 79/500\n",
      "106/106 [==============================] - 0s 950us/step - loss: 23.5658\n",
      "Epoch 80/500\n",
      "106/106 [==============================] - 0s 941us/step - loss: 22.8927\n",
      "Epoch 81/500\n",
      "106/106 [==============================] - 0s 956us/step - loss: 22.7956\n",
      "Epoch 82/500\n",
      "106/106 [==============================] - 0s 977us/step - loss: 22.9360\n",
      "Epoch 83/500\n",
      "106/106 [==============================] - 0s 951us/step - loss: 22.2892\n",
      "Epoch 84/500\n",
      "106/106 [==============================] - 0s 968us/step - loss: 21.8854\n",
      "Epoch 85/500\n",
      "106/106 [==============================] - 0s 912us/step - loss: 21.7489\n",
      "Epoch 86/500\n",
      "106/106 [==============================] - 0s 932us/step - loss: 21.5873\n",
      "Epoch 87/500\n",
      "106/106 [==============================] - 0s 962us/step - loss: 21.6828\n",
      "Epoch 88/500\n",
      "106/106 [==============================] - 0s 989us/step - loss: 20.7518\n",
      "Epoch 89/500\n",
      "106/106 [==============================] - 0s 922us/step - loss: 20.9333\n",
      "Epoch 90/500\n",
      "106/106 [==============================] - 0s 911us/step - loss: 20.9039\n",
      "Epoch 91/500\n",
      "106/106 [==============================] - 0s 976us/step - loss: 20.2171\n",
      "Epoch 92/500\n",
      "106/106 [==============================] - 0s 971us/step - loss: 19.7078\n",
      "Epoch 93/500\n",
      "106/106 [==============================] - 0s 999us/step - loss: 20.1017\n",
      "Epoch 94/500\n",
      "106/106 [==============================] - 0s 980us/step - loss: 19.3716\n",
      "Epoch 95/500\n",
      "106/106 [==============================] - 0s 933us/step - loss: 18.3495\n",
      "Epoch 96/500\n",
      "106/106 [==============================] - 0s 924us/step - loss: 18.5117\n",
      "Epoch 97/500\n"
     ]
    },
    {
     "name": "stdout",
     "output_type": "stream",
     "text": [
      "106/106 [==============================] - 0s 968us/step - loss: 18.9297\n",
      "Epoch 98/500\n",
      "106/106 [==============================] - 0s 986us/step - loss: 18.3846\n",
      "Epoch 99/500\n",
      "106/106 [==============================] - 0s 951us/step - loss: 17.8469\n",
      "Epoch 100/500\n",
      "106/106 [==============================] - 0s 951us/step - loss: 17.6826\n",
      "Epoch 101/500\n",
      "106/106 [==============================] - 0s 981us/step - loss: 17.3818\n",
      "Epoch 102/500\n",
      "106/106 [==============================] - 0s 986us/step - loss: 16.9023\n",
      "Epoch 103/500\n",
      "106/106 [==============================] - 0s 972us/step - loss: 17.0970\n",
      "Epoch 104/500\n",
      "106/106 [==============================] - 0s 994us/step - loss: 16.8251\n",
      "Epoch 105/500\n",
      "106/106 [==============================] - 0s 983us/step - loss: 16.2243\n",
      "Epoch 106/500\n",
      "106/106 [==============================] - 0s 915us/step - loss: 15.8516\n",
      "Epoch 107/500\n",
      "106/106 [==============================] - 0s 1ms/step - loss: 16.0171\n",
      "Epoch 108/500\n",
      "106/106 [==============================] - 0s 1ms/step - loss: 15.7007\n",
      "Epoch 109/500\n",
      "106/106 [==============================] - 0s 1ms/step - loss: 15.5325\n",
      "Epoch 110/500\n",
      "106/106 [==============================] - 0s 1ms/step - loss: 14.9112\n",
      "Epoch 111/500\n",
      "106/106 [==============================] - 0s 1ms/step - loss: 14.7097\n",
      "Epoch 112/500\n",
      "106/106 [==============================] - 0s 1ms/step - loss: 14.6745\n",
      "Epoch 113/500\n",
      "106/106 [==============================] - 0s 1ms/step - loss: 14.5339\n",
      "Epoch 114/500\n",
      "106/106 [==============================] - 0s 1ms/step - loss: 13.9640\n",
      "Epoch 115/500\n",
      "106/106 [==============================] - 0s 975us/step - loss: 13.7778\n",
      "Epoch 116/500\n",
      "106/106 [==============================] - 0s 951us/step - loss: 13.7791\n",
      "Epoch 117/500\n",
      "106/106 [==============================] - 0s 960us/step - loss: 13.0634\n",
      "Epoch 118/500\n",
      "106/106 [==============================] - 0s 944us/step - loss: 12.9248\n",
      "Epoch 119/500\n",
      "106/106 [==============================] - 0s 985us/step - loss: 12.6597\n",
      "Epoch 120/500\n",
      "106/106 [==============================] - 0s 974us/step - loss: 12.9547\n",
      "Epoch 121/500\n",
      "106/106 [==============================] - 0s 968us/step - loss: 12.0231\n",
      "Epoch 122/500\n",
      "106/106 [==============================] - 0s 982us/step - loss: 11.9455\n",
      "Epoch 123/500\n",
      "106/106 [==============================] - 0s 979us/step - loss: 11.6179\n",
      "Epoch 124/500\n",
      "106/106 [==============================] - 0s 972us/step - loss: 11.5441\n",
      "Epoch 125/500\n",
      "106/106 [==============================] - 0s 969us/step - loss: 11.2137\n",
      "Epoch 126/500\n",
      "106/106 [==============================] - 0s 958us/step - loss: 11.3472\n",
      "Epoch 127/500\n",
      "106/106 [==============================] - 0s 944us/step - loss: 11.1446\n",
      "Epoch 128/500\n",
      "106/106 [==============================] - 0s 973us/step - loss: 10.7693\n",
      "Epoch 129/500\n",
      "106/106 [==============================] - 0s 961us/step - loss: 10.4605\n",
      "Epoch 130/500\n",
      "106/106 [==============================] - 0s 970us/step - loss: 10.4455\n",
      "Epoch 131/500\n",
      "106/106 [==============================] - 0s 964us/step - loss: 10.0960\n",
      "Epoch 132/500\n",
      "106/106 [==============================] - 0s 951us/step - loss: 9.8957\n",
      "Epoch 133/500\n",
      "106/106 [==============================] - 0s 965us/step - loss: 9.8011\n",
      "Epoch 134/500\n",
      "106/106 [==============================] - 0s 943us/step - loss: 9.5697\n",
      "Epoch 135/500\n",
      "106/106 [==============================] - 0s 943us/step - loss: 9.0785\n",
      "Epoch 136/500\n",
      "106/106 [==============================] - 0s 1ms/step - loss: 9.0217\n",
      "Epoch 137/500\n",
      "106/106 [==============================] - 0s 919us/step - loss: 8.8281\n",
      "Epoch 138/500\n",
      "106/106 [==============================] - 0s 920us/step - loss: 8.3302\n",
      "Epoch 139/500\n",
      "106/106 [==============================] - 0s 926us/step - loss: 8.6138\n",
      "Epoch 140/500\n",
      "106/106 [==============================] - 0s 943us/step - loss: 8.3641\n",
      "Epoch 141/500\n",
      "106/106 [==============================] - 0s 928us/step - loss: 7.9609\n",
      "Epoch 142/500\n",
      "106/106 [==============================] - 0s 939us/step - loss: 7.6380\n",
      "Epoch 143/500\n",
      "106/106 [==============================] - 0s 924us/step - loss: 7.8422\n",
      "Epoch 144/500\n",
      "106/106 [==============================] - 0s 917us/step - loss: 7.3286\n",
      "Epoch 145/500\n",
      "106/106 [==============================] - 0s 936us/step - loss: 7.3314\n",
      "Epoch 146/500\n",
      "106/106 [==============================] - 0s 911us/step - loss: 7.0775\n",
      "Epoch 147/500\n",
      "106/106 [==============================] - 0s 913us/step - loss: 6.8886\n",
      "Epoch 148/500\n",
      "106/106 [==============================] - 0s 927us/step - loss: 6.7263\n",
      "Epoch 149/500\n",
      "106/106 [==============================] - 0s 921us/step - loss: 6.4601\n",
      "Epoch 150/500\n",
      "106/106 [==============================] - 0s 918us/step - loss: 6.3367\n",
      "Epoch 151/500\n",
      "106/106 [==============================] - 0s 924us/step - loss: 6.1801\n",
      "Epoch 152/500\n",
      "106/106 [==============================] - 0s 977us/step - loss: 5.9895\n",
      "Epoch 153/500\n",
      "106/106 [==============================] - 0s 1ms/step - loss: 5.7559\n",
      "Epoch 154/500\n",
      "106/106 [==============================] - 0s 1ms/step - loss: 5.6004\n",
      "Epoch 155/500\n",
      "106/106 [==============================] - 0s 1ms/step - loss: 5.5580\n",
      "Epoch 156/500\n",
      "106/106 [==============================] - 0s 1ms/step - loss: 5.3112\n",
      "Epoch 157/500\n",
      "106/106 [==============================] - 0s 994us/step - loss: 5.3835\n",
      "Epoch 158/500\n",
      "106/106 [==============================] - 0s 952us/step - loss: 4.9726\n",
      "Epoch 159/500\n",
      "106/106 [==============================] - 0s 973us/step - loss: 4.8523\n",
      "Epoch 160/500\n",
      "106/106 [==============================] - 0s 950us/step - loss: 4.6678\n",
      "Epoch 161/500\n",
      "106/106 [==============================] - 0s 944us/step - loss: 4.5276\n",
      "Epoch 162/500\n",
      "106/106 [==============================] - 0s 975us/step - loss: 4.4209\n",
      "Epoch 163/500\n",
      "106/106 [==============================] - 0s 952us/step - loss: 4.3142\n",
      "Epoch 164/500\n",
      "106/106 [==============================] - 0s 984us/step - loss: 4.0783\n",
      "Epoch 165/500\n",
      "106/106 [==============================] - 0s 983us/step - loss: 4.0198\n",
      "Epoch 166/500\n",
      "106/106 [==============================] - 0s 939us/step - loss: 3.8826\n",
      "Epoch 167/500\n",
      "106/106 [==============================] - 0s 947us/step - loss: 3.6698\n",
      "Epoch 168/500\n",
      "106/106 [==============================] - 0s 914us/step - loss: 3.5710\n",
      "Epoch 169/500\n",
      "106/106 [==============================] - 0s 904us/step - loss: 3.4673\n",
      "Epoch 170/500\n",
      "106/106 [==============================] - 0s 986us/step - loss: 3.2031\n",
      "Epoch 171/500\n",
      "106/106 [==============================] - 0s 1ms/step - loss: 3.2802\n",
      "Epoch 172/500\n",
      "106/106 [==============================] - 0s 1ms/step - loss: 3.1399\n",
      "Epoch 173/500\n",
      "106/106 [==============================] - 0s 1ms/step - loss: 2.9966\n",
      "Epoch 174/500\n",
      "106/106 [==============================] - 0s 1ms/step - loss: 2.9056\n",
      "Epoch 175/500\n",
      "106/106 [==============================] - 0s 1ms/step - loss: 2.8252\n",
      "Epoch 176/500\n",
      "106/106 [==============================] - 0s 1ms/step - loss: 2.6733\n",
      "Epoch 177/500\n",
      "106/106 [==============================] - 0s 988us/step - loss: 2.5870\n",
      "Epoch 178/500\n",
      "106/106 [==============================] - 0s 928us/step - loss: 2.4224\n",
      "Epoch 179/500\n",
      "106/106 [==============================] - 0s 945us/step - loss: 2.4024\n",
      "Epoch 180/500\n",
      "106/106 [==============================] - 0s 970us/step - loss: 2.2822\n",
      "Epoch 181/500\n",
      "106/106 [==============================] - 0s 944us/step - loss: 2.1379\n",
      "Epoch 182/500\n",
      "106/106 [==============================] - 0s 946us/step - loss: 2.1055\n",
      "Epoch 183/500\n",
      "106/106 [==============================] - 0s 937us/step - loss: 2.0044\n",
      "Epoch 184/500\n",
      "106/106 [==============================] - 0s 948us/step - loss: 1.9314\n",
      "Epoch 185/500\n",
      "106/106 [==============================] - 0s 932us/step - loss: 1.8430\n",
      "Epoch 186/500\n",
      "106/106 [==============================] - 0s 945us/step - loss: 1.7278\n",
      "Epoch 187/500\n",
      "106/106 [==============================] - 0s 998us/step - loss: 1.6864\n",
      "Epoch 188/500\n",
      "106/106 [==============================] - 0s 989us/step - loss: 1.5898\n",
      "Epoch 189/500\n",
      "106/106 [==============================] - 0s 893us/step - loss: 1.5952\n",
      "Epoch 190/500\n",
      "106/106 [==============================] - 0s 922us/step - loss: 1.4644\n",
      "Epoch 191/500\n",
      "106/106 [==============================] - 0s 914us/step - loss: 1.4239\n",
      "Epoch 192/500\n"
     ]
    },
    {
     "name": "stdout",
     "output_type": "stream",
     "text": [
      "106/106 [==============================] - 0s 901us/step - loss: 1.3755\n",
      "Epoch 193/500\n",
      "106/106 [==============================] - 0s 992us/step - loss: 1.3433\n",
      "Epoch 194/500\n",
      "106/106 [==============================] - 0s 951us/step - loss: 1.2488\n",
      "Epoch 195/500\n",
      "106/106 [==============================] - 0s 952us/step - loss: 1.2419\n",
      "Epoch 196/500\n",
      "106/106 [==============================] - 0s 955us/step - loss: 1.2095\n",
      "Epoch 197/500\n",
      "106/106 [==============================] - 0s 980us/step - loss: 1.1505\n",
      "Epoch 198/500\n",
      "106/106 [==============================] - 0s 962us/step - loss: 1.1143\n",
      "Epoch 199/500\n",
      "106/106 [==============================] - 0s 915us/step - loss: 1.1060\n",
      "Epoch 200/500\n",
      "106/106 [==============================] - 0s 925us/step - loss: 1.0639\n",
      "Epoch 201/500\n",
      "106/106 [==============================] - 0s 916us/step - loss: 1.0213\n",
      "Epoch 202/500\n",
      "106/106 [==============================] - 0s 924us/step - loss: 0.9792\n",
      "Epoch 203/500\n",
      "106/106 [==============================] - 0s 907us/step - loss: 0.9583\n",
      "Epoch 204/500\n",
      "106/106 [==============================] - 0s 983us/step - loss: 0.9508\n",
      "Epoch 205/500\n",
      "106/106 [==============================] - 0s 1ms/step - loss: 0.9475\n",
      "Epoch 206/500\n",
      "106/106 [==============================] - 0s 1ms/step - loss: 0.8878\n",
      "Epoch 207/500\n",
      "106/106 [==============================] - 0s 1ms/step - loss: 0.8588\n",
      "Epoch 208/500\n",
      "106/106 [==============================] - 0s 1ms/step - loss: 0.8366\n",
      "Epoch 209/500\n",
      "106/106 [==============================] - 0s 970us/step - loss: 0.8614\n",
      "Epoch 210/500\n",
      "106/106 [==============================] - 0s 961us/step - loss: 0.8506\n",
      "Epoch 211/500\n",
      "106/106 [==============================] - 0s 938us/step - loss: 0.8364\n",
      "Epoch 212/500\n",
      "106/106 [==============================] - 0s 953us/step - loss: 0.7987\n",
      "Epoch 213/500\n",
      "106/106 [==============================] - 0s 936us/step - loss: 0.8006\n",
      "Epoch 214/500\n",
      "106/106 [==============================] - 0s 979us/step - loss: 0.8263\n",
      "Epoch 215/500\n",
      "106/106 [==============================] - 0s 937us/step - loss: 0.7806\n",
      "Epoch 216/500\n",
      "106/106 [==============================] - 0s 969us/step - loss: 0.7987\n",
      "Epoch 217/500\n",
      "106/106 [==============================] - 0s 972us/step - loss: 0.7579\n",
      "Epoch 218/500\n",
      "106/106 [==============================] - 0s 960us/step - loss: 0.7680\n",
      "Epoch 219/500\n",
      "106/106 [==============================] - 0s 1ms/step - loss: 0.7942\n",
      "Epoch 220/500\n",
      "106/106 [==============================] - 0s 1ms/step - loss: 0.7500\n",
      "Epoch 221/500\n",
      "106/106 [==============================] - 0s 1ms/step - loss: 0.7557\n",
      "Epoch 222/500\n",
      "106/106 [==============================] - 0s 1ms/step - loss: 0.7438\n",
      "Epoch 223/500\n",
      "106/106 [==============================] - 0s 1ms/step - loss: 0.7503\n",
      "Epoch 224/500\n",
      "106/106 [==============================] - 0s 1ms/step - loss: 0.7546\n",
      "Epoch 225/500\n",
      "106/106 [==============================] - 0s 1ms/step - loss: 0.7568\n",
      "Epoch 226/500\n",
      "106/106 [==============================] - 0s 1ms/step - loss: 0.7473\n",
      "Epoch 227/500\n",
      "106/106 [==============================] - 0s 1ms/step - loss: 0.7262\n",
      "Epoch 228/500\n",
      "106/106 [==============================] - 0s 951us/step - loss: 0.7581\n",
      "Epoch 229/500\n",
      "106/106 [==============================] - 0s 961us/step - loss: 0.7288\n",
      "Epoch 230/500\n",
      "106/106 [==============================] - 0s 947us/step - loss: 0.7675\n",
      "Epoch 231/500\n",
      "106/106 [==============================] - 0s 953us/step - loss: 0.7347\n",
      "Epoch 232/500\n",
      "106/106 [==============================] - 0s 932us/step - loss: 0.7251\n",
      "Epoch 233/500\n",
      "106/106 [==============================] - 0s 931us/step - loss: 0.7324\n",
      "Epoch 234/500\n",
      "106/106 [==============================] - 0s 952us/step - loss: 0.7386\n",
      "Epoch 235/500\n",
      "106/106 [==============================] - 0s 975us/step - loss: 0.7132\n",
      "Epoch 236/500\n",
      "106/106 [==============================] - 0s 967us/step - loss: 0.7349\n",
      "Epoch 237/500\n",
      "106/106 [==============================] - 0s 990us/step - loss: 0.7199\n",
      "Epoch 238/500\n",
      "106/106 [==============================] - 0s 973us/step - loss: 0.7413\n",
      "Epoch 239/500\n",
      "106/106 [==============================] - 0s 981us/step - loss: 0.7325\n",
      "Epoch 240/500\n",
      "106/106 [==============================] - 0s 941us/step - loss: 0.7332\n",
      "Epoch 241/500\n",
      "106/106 [==============================] - 0s 952us/step - loss: 0.6918\n",
      "Epoch 242/500\n",
      "106/106 [==============================] - 0s 950us/step - loss: 0.7313\n",
      "Epoch 243/500\n",
      "106/106 [==============================] - 0s 940us/step - loss: 0.7189\n",
      "Epoch 244/500\n",
      "106/106 [==============================] - 0s 986us/step - loss: 0.7227\n",
      "Epoch 245/500\n",
      "106/106 [==============================] - 0s 969us/step - loss: 0.7167\n",
      "Epoch 246/500\n",
      "106/106 [==============================] - 0s 942us/step - loss: 0.7293\n",
      "Epoch 247/500\n",
      "106/106 [==============================] - 0s 950us/step - loss: 0.7171\n",
      "Epoch 248/500\n",
      "106/106 [==============================] - 0s 947us/step - loss: 0.7055\n",
      "Epoch 249/500\n",
      "106/106 [==============================] - 0s 925us/step - loss: 0.7355\n",
      "Epoch 250/500\n",
      "106/106 [==============================] - 0s 903us/step - loss: 0.7401\n",
      "Epoch 251/500\n",
      "106/106 [==============================] - 0s 912us/step - loss: 0.7556\n",
      "Epoch 252/500\n",
      "106/106 [==============================] - 0s 917us/step - loss: 0.7458\n",
      "Epoch 253/500\n",
      "106/106 [==============================] - 0s 998us/step - loss: 0.7457\n",
      "Epoch 254/500\n",
      "106/106 [==============================] - 0s 1ms/step - loss: 0.7191\n",
      "Epoch 255/500\n",
      "106/106 [==============================] - 0s 1ms/step - loss: 0.7069\n",
      "Epoch 256/500\n",
      "106/106 [==============================] - 0s 1ms/step - loss: 0.7002\n",
      "Epoch 257/500\n",
      "106/106 [==============================] - 0s 1ms/step - loss: 0.7305\n",
      "Epoch 258/500\n",
      "106/106 [==============================] - 0s 1ms/step - loss: 0.7222\n",
      "Epoch 259/500\n",
      "106/106 [==============================] - 0s 993us/step - loss: 0.7177\n",
      "Epoch 260/500\n",
      "106/106 [==============================] - 0s 920us/step - loss: 0.7417\n",
      "Epoch 261/500\n",
      "106/106 [==============================] - 0s 913us/step - loss: 0.7227\n",
      "Epoch 262/500\n",
      "106/106 [==============================] - 0s 915us/step - loss: 0.6770\n",
      "Epoch 263/500\n",
      "106/106 [==============================] - 0s 910us/step - loss: 0.7104\n",
      "Epoch 264/500\n",
      "106/106 [==============================] - 0s 921us/step - loss: 0.7515\n",
      "Epoch 265/500\n",
      "106/106 [==============================] - 0s 895us/step - loss: 0.7097\n",
      "Epoch 266/500\n",
      "106/106 [==============================] - 0s 913us/step - loss: 0.7088\n",
      "Epoch 267/500\n",
      "106/106 [==============================] - 0s 927us/step - loss: 0.7043\n",
      "Epoch 268/500\n",
      "106/106 [==============================] - 0s 921us/step - loss: 0.6886\n",
      "Epoch 269/500\n",
      "106/106 [==============================] - 0s 904us/step - loss: 0.7109\n",
      "Epoch 270/500\n",
      "106/106 [==============================] - 0s 942us/step - loss: 0.7390\n",
      "Epoch 271/500\n",
      "106/106 [==============================] - 0s 945us/step - loss: 0.7214\n",
      "Epoch 272/500\n",
      "106/106 [==============================] - 0s 907us/step - loss: 0.7049\n",
      "Epoch 273/500\n",
      "106/106 [==============================] - 0s 905us/step - loss: 0.7014\n",
      "Epoch 274/500\n",
      "106/106 [==============================] - 0s 912us/step - loss: 0.7020\n",
      "Epoch 275/500\n",
      "106/106 [==============================] - 0s 923us/step - loss: 0.7024\n",
      "Epoch 276/500\n",
      "106/106 [==============================] - 0s 937us/step - loss: 0.7208\n",
      "Epoch 277/500\n",
      "106/106 [==============================] - 0s 956us/step - loss: 0.7049\n",
      "Epoch 278/500\n",
      "106/106 [==============================] - 0s 936us/step - loss: 0.7482\n",
      "Epoch 279/500\n",
      "106/106 [==============================] - 0s 929us/step - loss: 0.7107\n",
      "Epoch 280/500\n",
      "106/106 [==============================] - 0s 955us/step - loss: 0.7217\n",
      "Epoch 281/500\n",
      "106/106 [==============================] - 0s 955us/step - loss: 0.7578\n",
      "Epoch 282/500\n",
      "106/106 [==============================] - 0s 900us/step - loss: 0.7136\n",
      "Epoch 283/500\n",
      "106/106 [==============================] - 0s 935us/step - loss: 0.7068\n",
      "Epoch 284/500\n",
      "106/106 [==============================] - 0s 913us/step - loss: 0.6860\n",
      "Epoch 285/500\n",
      "106/106 [==============================] - 0s 937us/step - loss: 0.7186\n",
      "Epoch 286/500\n",
      "106/106 [==============================] - 0s 917us/step - loss: 0.7118\n",
      "Epoch 287/500\n"
     ]
    },
    {
     "name": "stdout",
     "output_type": "stream",
     "text": [
      "106/106 [==============================] - 0s 904us/step - loss: 0.7149\n",
      "Epoch 288/500\n",
      "106/106 [==============================] - 0s 945us/step - loss: 0.7156\n",
      "Epoch 289/500\n",
      "106/106 [==============================] - 0s 912us/step - loss: 0.7307\n",
      "Epoch 290/500\n",
      "106/106 [==============================] - 0s 1ms/step - loss: 0.7053\n",
      "Epoch 291/500\n",
      "106/106 [==============================] - 0s 1ms/step - loss: 0.7296\n",
      "Epoch 292/500\n",
      "106/106 [==============================] - 0s 898us/step - loss: 0.6892\n",
      "Epoch 293/500\n",
      "106/106 [==============================] - 0s 912us/step - loss: 0.6829\n",
      "Epoch 294/500\n",
      "106/106 [==============================] - 0s 925us/step - loss: 0.7214\n",
      "Epoch 295/500\n",
      "106/106 [==============================] - 0s 943us/step - loss: 0.7174\n",
      "Epoch 296/500\n",
      "106/106 [==============================] - 0s 922us/step - loss: 0.7449\n",
      "Epoch 297/500\n",
      "106/106 [==============================] - 0s 912us/step - loss: 0.7072\n",
      "Epoch 298/500\n",
      "106/106 [==============================] - 0s 917us/step - loss: 0.7146\n",
      "Epoch 299/500\n",
      "106/106 [==============================] - 0s 909us/step - loss: 0.6858\n",
      "Epoch 300/500\n",
      "106/106 [==============================] - 0s 1ms/step - loss: 0.6996\n",
      "Epoch 301/500\n",
      "106/106 [==============================] - 0s 1ms/step - loss: 0.6745\n",
      "Epoch 302/500\n",
      "106/106 [==============================] - 0s 1ms/step - loss: 0.7053\n",
      "Epoch 303/500\n",
      "106/106 [==============================] - 0s 945us/step - loss: 0.7122\n",
      "Epoch 304/500\n",
      "106/106 [==============================] - 0s 1ms/step - loss: 0.7355\n",
      "Epoch 305/500\n",
      "106/106 [==============================] - 0s 2ms/step - loss: 0.6767\n",
      "Epoch 306/500\n",
      "106/106 [==============================] - 0s 2ms/step - loss: 0.6956\n",
      "Epoch 307/500\n",
      "106/106 [==============================] - 0s 2ms/step - loss: 0.7209\n",
      "Epoch 308/500\n",
      "106/106 [==============================] - 0s 2ms/step - loss: 0.7274\n",
      "Epoch 309/500\n",
      "106/106 [==============================] - 0s 1ms/step - loss: 0.6853\n",
      "Epoch 310/500\n",
      "106/106 [==============================] - 0s 3ms/step - loss: 0.7155\n",
      "Epoch 311/500\n",
      "106/106 [==============================] - 0s 2ms/step - loss: 0.7169\n",
      "Epoch 312/500\n",
      "106/106 [==============================] - 0s 2ms/step - loss: 0.7109\n",
      "Epoch 313/500\n",
      "106/106 [==============================] - 0s 1ms/step - loss: 0.7154\n",
      "Epoch 314/500\n",
      "106/106 [==============================] - 0s 2ms/step - loss: 0.6895\n",
      "Epoch 315/500\n",
      "106/106 [==============================] - 0s 3ms/step - loss: 0.7071\n",
      "Epoch 316/500\n",
      "106/106 [==============================] - 0s 2ms/step - loss: 0.6731\n",
      "Epoch 317/500\n",
      "106/106 [==============================] - 0s 2ms/step - loss: 0.7238\n",
      "Epoch 318/500\n",
      "106/106 [==============================] - 0s 2ms/step - loss: 0.7163\n",
      "Epoch 319/500\n",
      "106/106 [==============================] - 0s 2ms/step - loss: 0.6850\n",
      "Epoch 320/500\n",
      "106/106 [==============================] - 0s 2ms/step - loss: 0.6994\n",
      "Epoch 321/500\n",
      "106/106 [==============================] - 0s 2ms/step - loss: 0.7267\n",
      "Epoch 322/500\n",
      "106/106 [==============================] - 0s 3ms/step - loss: 0.7046\n",
      "Epoch 323/500\n",
      "106/106 [==============================] - 0s 2ms/step - loss: 0.7215\n",
      "Epoch 324/500\n",
      "106/106 [==============================] - 0s 2ms/step - loss: 0.6976\n",
      "Epoch 325/500\n",
      "106/106 [==============================] - 0s 2ms/step - loss: 0.6970\n",
      "Epoch 326/500\n",
      "106/106 [==============================] - 0s 2ms/step - loss: 0.6989\n",
      "Epoch 327/500\n",
      "106/106 [==============================] - 0s 3ms/step - loss: 0.6864\n",
      "Epoch 328/500\n",
      "106/106 [==============================] - 0s 2ms/step - loss: 0.6907\n",
      "Epoch 329/500\n",
      "106/106 [==============================] - 0s 2ms/step - loss: 0.7048\n",
      "Epoch 330/500\n",
      "106/106 [==============================] - 0s 3ms/step - loss: 0.6629\n",
      "Epoch 331/500\n",
      "106/106 [==============================] - 0s 1ms/step - loss: 0.7136\n",
      "Epoch 332/500\n",
      "106/106 [==============================] - 0s 2ms/step - loss: 0.6997\n",
      "Epoch 333/500\n",
      "106/106 [==============================] - 0s 3ms/step - loss: 0.7225\n",
      "Epoch 334/500\n",
      "106/106 [==============================] - 0s 2ms/step - loss: 0.6775\n",
      "Epoch 335/500\n",
      "106/106 [==============================] - 0s 1ms/step - loss: 0.7001\n",
      "Epoch 336/500\n",
      "106/106 [==============================] - 0s 3ms/step - loss: 0.7010\n",
      "Epoch 337/500\n",
      "106/106 [==============================] - 0s 1ms/step - loss: 0.6904\n",
      "Epoch 338/500\n",
      "106/106 [==============================] - 0s 2ms/step - loss: 0.7023\n",
      "Epoch 339/500\n",
      "106/106 [==============================] - 0s 1ms/step - loss: 0.7121\n",
      "Epoch 340/500\n",
      "106/106 [==============================] - 0s 2ms/step - loss: 0.6948\n",
      "Epoch 341/500\n",
      "106/106 [==============================] - 0s 2ms/step - loss: 0.6732\n",
      "Epoch 342/500\n",
      "106/106 [==============================] - 0s 2ms/step - loss: 0.6846\n",
      "Epoch 343/500\n",
      "106/106 [==============================] - 0s 2ms/step - loss: 0.7097\n",
      "Epoch 344/500\n",
      "106/106 [==============================] - 0s 2ms/step - loss: 0.6946\n",
      "Epoch 345/500\n",
      "106/106 [==============================] - 0s 1ms/step - loss: 0.6872\n",
      "Epoch 346/500\n",
      "106/106 [==============================] - 0s 2ms/step - loss: 0.6934\n",
      "Epoch 347/500\n",
      "106/106 [==============================] - 0s 3ms/step - loss: 0.6865\n",
      "Epoch 348/500\n",
      "106/106 [==============================] - 0s 3ms/step - loss: 0.6953\n",
      "Epoch 349/500\n",
      "106/106 [==============================] - 0s 3ms/step - loss: 0.6674\n",
      "Epoch 350/500\n",
      "106/106 [==============================] - 0s 2ms/step - loss: 0.6871\n",
      "Epoch 351/500\n",
      "106/106 [==============================] - 0s 2ms/step - loss: 0.6882\n",
      "Epoch 352/500\n",
      "106/106 [==============================] - 0s 2ms/step - loss: 0.7022\n",
      "Epoch 353/500\n",
      "106/106 [==============================] - 0s 2ms/step - loss: 0.7008\n",
      "Epoch 354/500\n",
      "106/106 [==============================] - 0s 3ms/step - loss: 0.6808\n",
      "Epoch 355/500\n",
      "106/106 [==============================] - 0s 2ms/step - loss: 0.6906\n",
      "Epoch 356/500\n",
      "106/106 [==============================] - 0s 2ms/step - loss: 0.6943\n",
      "Epoch 357/500\n",
      "106/106 [==============================] - 0s 2ms/step - loss: 0.6840\n",
      "Epoch 358/500\n",
      "106/106 [==============================] - 0s 3ms/step - loss: 0.7001\n",
      "Epoch 359/500\n",
      "106/106 [==============================] - 0s 2ms/step - loss: 0.6547\n",
      "Epoch 360/500\n",
      "106/106 [==============================] - 0s 3ms/step - loss: 0.6847\n",
      "Epoch 361/500\n",
      "106/106 [==============================] - 0s 2ms/step - loss: 0.6917\n",
      "Epoch 362/500\n",
      "106/106 [==============================] - 0s 2ms/step - loss: 0.6705\n",
      "Epoch 363/500\n",
      "106/106 [==============================] - 0s 2ms/step - loss: 0.6863\n",
      "Epoch 364/500\n",
      "106/106 [==============================] - 0s 3ms/step - loss: 0.6827\n",
      "Epoch 365/500\n",
      "106/106 [==============================] - 0s 3ms/step - loss: 0.6586\n",
      "Epoch 366/500\n",
      "106/106 [==============================] - 0s 2ms/step - loss: 0.6719\n",
      "Epoch 367/500\n",
      "106/106 [==============================] - 0s 3ms/step - loss: 0.7071\n",
      "Epoch 368/500\n",
      "106/106 [==============================] - 0s 3ms/step - loss: 0.6760\n",
      "Epoch 369/500\n",
      "106/106 [==============================] - 0s 3ms/step - loss: 0.7025\n",
      "Epoch 370/500\n",
      "106/106 [==============================] - 0s 2ms/step - loss: 0.6744\n",
      "Epoch 371/500\n",
      "106/106 [==============================] - 0s 3ms/step - loss: 0.6593\n",
      "Epoch 372/500\n",
      "106/106 [==============================] - 0s 3ms/step - loss: 0.6710A: 0s - loss: 0\n",
      "Epoch 373/500\n",
      "106/106 [==============================] - 0s 2ms/step - loss: 0.6973\n",
      "Epoch 374/500\n",
      "106/106 [==============================] - 0s 2ms/step - loss: 0.6826\n",
      "Epoch 375/500\n",
      "106/106 [==============================] - 0s 3ms/step - loss: 0.6797\n",
      "Epoch 376/500\n",
      "106/106 [==============================] - 0s 2ms/step - loss: 0.6814\n",
      "Epoch 377/500\n",
      "106/106 [==============================] - 0s 2ms/step - loss: 0.6851\n",
      "Epoch 378/500\n",
      "106/106 [==============================] - 0s 2ms/step - loss: 0.7016\n",
      "Epoch 379/500\n",
      "106/106 [==============================] - 0s 3ms/step - loss: 0.6964\n",
      "Epoch 380/500\n",
      "106/106 [==============================] - 0s 1ms/step - loss: 0.7046\n",
      "Epoch 381/500\n",
      "106/106 [==============================] - 0s 2ms/step - loss: 0.7060\n",
      "Epoch 382/500\n",
      "106/106 [==============================] - 0s 3ms/step - loss: 0.6724\n",
      "Epoch 383/500\n",
      "106/106 [==============================] - 0s 2ms/step - loss: 0.6537\n",
      "Epoch 384/500\n"
     ]
    },
    {
     "name": "stdout",
     "output_type": "stream",
     "text": [
      "106/106 [==============================] - 0s 2ms/step - loss: 0.6894\n",
      "Epoch 385/500\n",
      "106/106 [==============================] - 0s 3ms/step - loss: 0.6882\n",
      "Epoch 386/500\n",
      "106/106 [==============================] - 0s 2ms/step - loss: 0.6858\n",
      "Epoch 387/500\n",
      "106/106 [==============================] - 0s 1ms/step - loss: 0.6722\n",
      "Epoch 388/500\n",
      "106/106 [==============================] - 0s 2ms/step - loss: 0.6850\n",
      "Epoch 389/500\n",
      "106/106 [==============================] - 0s 2ms/step - loss: 0.6592\n",
      "Epoch 390/500\n",
      "106/106 [==============================] - 0s 2ms/step - loss: 0.6820\n",
      "Epoch 391/500\n",
      "106/106 [==============================] - 0s 2ms/step - loss: 0.6862\n",
      "Epoch 392/500\n",
      "106/106 [==============================] - 0s 1ms/step - loss: 0.6826\n",
      "Epoch 393/500\n",
      "106/106 [==============================] - 0s 2ms/step - loss: 0.6847\n",
      "Epoch 394/500\n",
      "106/106 [==============================] - 0s 2ms/step - loss: 0.7112\n",
      "Epoch 395/500\n",
      "106/106 [==============================] - 0s 2ms/step - loss: 0.6904\n",
      "Epoch 396/500\n",
      "106/106 [==============================] - 0s 1ms/step - loss: 0.6872\n",
      "Epoch 397/500\n",
      "106/106 [==============================] - 0s 1ms/step - loss: 0.6677\n",
      "Epoch 398/500\n",
      "106/106 [==============================] - 0s 1ms/step - loss: 0.6832\n",
      "Epoch 399/500\n",
      "106/106 [==============================] - 0s 1ms/step - loss: 0.6697\n",
      "Epoch 400/500\n",
      "106/106 [==============================] - 0s 1ms/step - loss: 0.6652\n",
      "Epoch 401/500\n",
      "106/106 [==============================] - 0s 1ms/step - loss: 0.6694\n",
      "Epoch 402/500\n",
      "106/106 [==============================] - 0s 1ms/step - loss: 0.6309\n",
      "Epoch 403/500\n",
      "106/106 [==============================] - 0s 2ms/step - loss: 0.6905\n",
      "Epoch 404/500\n",
      "106/106 [==============================] - 0s 1ms/step - loss: 0.6690\n",
      "Epoch 405/500\n",
      "106/106 [==============================] - 0s 2ms/step - loss: 0.7136\n",
      "Epoch 406/500\n",
      "106/106 [==============================] - 0s 3ms/step - loss: 0.6505\n",
      "Epoch 407/500\n",
      "106/106 [==============================] - 0s 2ms/step - loss: 0.6855\n",
      "Epoch 408/500\n",
      "106/106 [==============================] - 0s 2ms/step - loss: 0.6698\n",
      "Epoch 409/500\n",
      "106/106 [==============================] - 0s 2ms/step - loss: 0.6736\n",
      "Epoch 410/500\n",
      "106/106 [==============================] - 0s 2ms/step - loss: 0.6898\n",
      "Epoch 411/500\n",
      "106/106 [==============================] - 0s 2ms/step - loss: 0.6894\n",
      "Epoch 412/500\n",
      "106/106 [==============================] - 0s 3ms/step - loss: 0.6656\n",
      "Epoch 413/500\n",
      "106/106 [==============================] - 0s 2ms/step - loss: 0.6694\n",
      "Epoch 414/500\n",
      "106/106 [==============================] - 0s 3ms/step - loss: 0.6667\n",
      "Epoch 415/500\n",
      "106/106 [==============================] - 0s 2ms/step - loss: 0.6500\n",
      "Epoch 416/500\n",
      "106/106 [==============================] - 0s 2ms/step - loss: 0.6928\n",
      "Epoch 417/500\n",
      "106/106 [==============================] - 0s 2ms/step - loss: 0.6806\n",
      "Epoch 418/500\n",
      "106/106 [==============================] - 0s 3ms/step - loss: 0.6770\n",
      "Epoch 419/500\n",
      "106/106 [==============================] - 0s 2ms/step - loss: 0.6587\n",
      "Epoch 420/500\n",
      "106/106 [==============================] - 0s 2ms/step - loss: 0.6651\n",
      "Epoch 421/500\n",
      "106/106 [==============================] - 0s 3ms/step - loss: 0.6709\n",
      "Epoch 422/500\n",
      "106/106 [==============================] - 0s 3ms/step - loss: 0.6815\n",
      "Epoch 423/500\n",
      "106/106 [==============================] - 0s 3ms/step - loss: 0.6602\n",
      "Epoch 424/500\n",
      "106/106 [==============================] - 0s 2ms/step - loss: 0.6646\n",
      "Epoch 425/500\n",
      "106/106 [==============================] - 0s 2ms/step - loss: 0.6947\n",
      "Epoch 426/500\n",
      "106/106 [==============================] - 0s 2ms/step - loss: 0.6823\n",
      "Epoch 427/500\n",
      "106/106 [==============================] - 0s 2ms/step - loss: 0.6411\n",
      "Epoch 428/500\n",
      "106/106 [==============================] - 0s 2ms/step - loss: 0.6696\n",
      "Epoch 429/500\n",
      "106/106 [==============================] - 0s 2ms/step - loss: 0.6531\n",
      "Epoch 430/500\n",
      "106/106 [==============================] - 0s 2ms/step - loss: 0.6721\n",
      "Epoch 431/500\n",
      "106/106 [==============================] - 0s 1ms/step - loss: 0.6801\n",
      "Epoch 432/500\n",
      "106/106 [==============================] - 0s 1ms/step - loss: 0.6617\n",
      "Epoch 433/500\n",
      "106/106 [==============================] - 0s 1ms/step - loss: 0.6681\n",
      "Epoch 434/500\n",
      "106/106 [==============================] - 0s 1ms/step - loss: 0.6654\n",
      "Epoch 435/500\n",
      "106/106 [==============================] - 0s 1ms/step - loss: 0.6610\n",
      "Epoch 436/500\n",
      "106/106 [==============================] - 0s 1ms/step - loss: 0.6740\n",
      "Epoch 437/500\n",
      "106/106 [==============================] - 0s 1ms/step - loss: 0.6731\n",
      "Epoch 438/500\n",
      "106/106 [==============================] - 0s 1ms/step - loss: 0.6512\n",
      "Epoch 439/500\n",
      "106/106 [==============================] - 0s 1ms/step - loss: 0.6495\n",
      "Epoch 440/500\n",
      "106/106 [==============================] - 0s 1ms/step - loss: 0.6688\n",
      "Epoch 441/500\n",
      "106/106 [==============================] - 0s 975us/step - loss: 0.6426\n",
      "Epoch 442/500\n",
      "106/106 [==============================] - 0s 980us/step - loss: 0.6658\n",
      "Epoch 443/500\n",
      "106/106 [==============================] - 0s 960us/step - loss: 0.6250\n",
      "Epoch 444/500\n",
      "106/106 [==============================] - 0s 960us/step - loss: 0.6912\n",
      "Epoch 445/500\n",
      "106/106 [==============================] - 0s 1ms/step - loss: 0.6713\n",
      "Epoch 446/500\n",
      "106/106 [==============================] - 0s 1ms/step - loss: 0.6601\n",
      "Epoch 447/500\n",
      "106/106 [==============================] - 0s 1ms/step - loss: 0.6632\n",
      "Epoch 448/500\n",
      "106/106 [==============================] - 0s 1ms/step - loss: 0.6558\n",
      "Epoch 449/500\n",
      "106/106 [==============================] - 0s 1ms/step - loss: 0.6438\n",
      "Epoch 450/500\n",
      "106/106 [==============================] - 0s 1ms/step - loss: 0.6440\n",
      "Epoch 451/500\n",
      "106/106 [==============================] - 0s 2ms/step - loss: 0.6665\n",
      "Epoch 452/500\n",
      "106/106 [==============================] - 0s 3ms/step - loss: 0.6708\n",
      "Epoch 453/500\n",
      "106/106 [==============================] - 0s 3ms/step - loss: 0.6657\n",
      "Epoch 454/500\n",
      "106/106 [==============================] - 0s 2ms/step - loss: 0.6692\n",
      "Epoch 455/500\n",
      "106/106 [==============================] - 0s 2ms/step - loss: 0.6642\n",
      "Epoch 456/500\n",
      "106/106 [==============================] - 0s 3ms/step - loss: 0.6573\n",
      "Epoch 457/500\n",
      "106/106 [==============================] - 0s 3ms/step - loss: 0.6893\n",
      "Epoch 458/500\n",
      "106/106 [==============================] - 0s 3ms/step - loss: 0.6738\n",
      "Epoch 459/500\n",
      "106/106 [==============================] - 0s 2ms/step - loss: 0.6714\n",
      "Epoch 460/500\n",
      "106/106 [==============================] - 0s 3ms/step - loss: 0.6582\n",
      "Epoch 461/500\n",
      "106/106 [==============================] - 0s 3ms/step - loss: 0.6551\n",
      "Epoch 462/500\n",
      "106/106 [==============================] - 0s 3ms/step - loss: 0.6611\n",
      "Epoch 463/500\n",
      "106/106 [==============================] - 0s 3ms/step - loss: 0.6324\n",
      "Epoch 464/500\n",
      "106/106 [==============================] - 0s 3ms/step - loss: 0.6859\n",
      "Epoch 465/500\n",
      "106/106 [==============================] - 0s 3ms/step - loss: 0.6466\n",
      "Epoch 466/500\n",
      "106/106 [==============================] - 0s 3ms/step - loss: 0.6619\n",
      "Epoch 467/500\n",
      "106/106 [==============================] - 0s 3ms/step - loss: 0.6644\n",
      "Epoch 468/500\n",
      "106/106 [==============================] - 0s 3ms/step - loss: 0.6493\n",
      "Epoch 469/500\n",
      "106/106 [==============================] - 0s 3ms/step - loss: 0.6936\n",
      "Epoch 470/500\n",
      "106/106 [==============================] - 0s 3ms/step - loss: 0.6583\n",
      "Epoch 471/500\n",
      "106/106 [==============================] - 0s 3ms/step - loss: 0.6494\n",
      "Epoch 472/500\n",
      "106/106 [==============================] - 0s 3ms/step - loss: 0.6739\n",
      "Epoch 473/500\n",
      "106/106 [==============================] - 0s 3ms/step - loss: 0.6850\n",
      "Epoch 474/500\n",
      "106/106 [==============================] - 0s 3ms/step - loss: 0.6730\n",
      "Epoch 475/500\n",
      "106/106 [==============================] - 0s 3ms/step - loss: 0.6447\n",
      "Epoch 476/500\n",
      "106/106 [==============================] - 0s 3ms/step - loss: 0.6437\n",
      "Epoch 477/500\n",
      "106/106 [==============================] - 0s 3ms/step - loss: 0.6721\n",
      "Epoch 478/500\n",
      "106/106 [==============================] - 0s 3ms/step - loss: 0.6531\n",
      "Epoch 479/500\n",
      "106/106 [==============================] - 0s 3ms/step - loss: 0.6457\n",
      "Epoch 480/500\n",
      "106/106 [==============================] - 0s 3ms/step - loss: 0.6740\n",
      "Epoch 481/500\n"
     ]
    },
    {
     "name": "stdout",
     "output_type": "stream",
     "text": [
      "106/106 [==============================] - 0s 2ms/step - loss: 0.6552\n",
      "Epoch 482/500\n",
      "106/106 [==============================] - 0s 2ms/step - loss: 0.6457\n",
      "Epoch 483/500\n",
      "106/106 [==============================] - 0s 3ms/step - loss: 0.6518\n",
      "Epoch 484/500\n",
      "106/106 [==============================] - 0s 3ms/step - loss: 0.6678\n",
      "Epoch 485/500\n",
      "106/106 [==============================] - 0s 3ms/step - loss: 0.6683\n",
      "Epoch 486/500\n",
      "106/106 [==============================] - 0s 3ms/step - loss: 0.6603\n",
      "Epoch 487/500\n",
      "106/106 [==============================] - 0s 3ms/step - loss: 0.6385\n",
      "Epoch 488/500\n",
      "106/106 [==============================] - 0s 2ms/step - loss: 0.6422\n",
      "Epoch 489/500\n",
      "106/106 [==============================] - 0s 2ms/step - loss: 0.6459\n",
      "Epoch 490/500\n",
      "106/106 [==============================] - 0s 2ms/step - loss: 0.6468\n",
      "Epoch 491/500\n",
      "106/106 [==============================] - 0s 2ms/step - loss: 0.6655\n",
      "Epoch 492/500\n",
      "106/106 [==============================] - 0s 2ms/step - loss: 0.6529\n",
      "Epoch 493/500\n",
      "106/106 [==============================] - 0s 2ms/step - loss: 0.6865\n",
      "Epoch 494/500\n",
      "106/106 [==============================] - 0s 2ms/step - loss: 0.7023\n",
      "Epoch 495/500\n",
      "106/106 [==============================] - 0s 1ms/step - loss: 0.6960\n",
      "Epoch 496/500\n",
      "106/106 [==============================] - 0s 1ms/step - loss: 0.6546\n",
      "Epoch 497/500\n",
      "106/106 [==============================] - 0s 947us/step - loss: 0.6630\n",
      "Epoch 498/500\n",
      "106/106 [==============================] - 0s 951us/step - loss: 0.6637\n",
      "Epoch 499/500\n",
      "106/106 [==============================] - 0s 965us/step - loss: 0.6430\n",
      "Epoch 500/500\n",
      "106/106 [==============================] - 0s 979us/step - loss: 0.6554\n"
     ]
    },
    {
     "data": {
      "text/plain": [
       "<tensorflow.python.keras.callbacks.History at 0x1e2bec9a788>"
      ]
     },
     "execution_count": 45,
     "metadata": {},
     "output_type": "execute_result"
    }
   ],
   "source": [
    "estimator.fit(X_train_norm,Y_train)"
   ]
  },
  {
   "cell_type": "markdown",
   "metadata": {},
   "source": [
    "### Predicting the test data "
   ]
  },
  {
   "cell_type": "code",
   "execution_count": 46,
   "metadata": {
    "ExecuteTime": {
     "end_time": "2021-04-27T11:11:58.421497Z",
     "start_time": "2021-04-27T11:11:58.208139Z"
    }
   },
   "outputs": [
    {
     "name": "stdout",
     "output_type": "stream",
     "text": [
      "46/46 [==============================] - 0s 743us/step\n"
     ]
    }
   ],
   "source": [
    "y_pred = estimator.predict(X_test_norm)"
   ]
  },
  {
   "cell_type": "code",
   "execution_count": 47,
   "metadata": {
    "ExecuteTime": {
     "end_time": "2021-04-27T11:11:58.436963Z",
     "start_time": "2021-04-27T11:11:58.425519Z"
    }
   },
   "outputs": [
    {
     "data": {
      "text/plain": [
       "array([133.51299, 122.84309, 132.72162, ..., 133.53377, 129.8104 ,\n",
       "       162.0178 ], dtype=float32)"
      ]
     },
     "execution_count": 47,
     "metadata": {},
     "output_type": "execute_result"
    }
   ],
   "source": [
    "y_pred"
   ]
  },
  {
   "cell_type": "code",
   "execution_count": 48,
   "metadata": {
    "ExecuteTime": {
     "end_time": "2021-04-27T11:11:58.461579Z",
     "start_time": "2021-04-27T11:11:58.444750Z"
    }
   },
   "outputs": [
    {
     "data": {
      "text/plain": [
       "(4512,)"
      ]
     },
     "execution_count": 48,
     "metadata": {},
     "output_type": "execute_result"
    }
   ],
   "source": [
    "y_pred.shape"
   ]
  },
  {
   "cell_type": "markdown",
   "metadata": {},
   "source": [
    "### RMSE value for Test data :-"
   ]
  },
  {
   "cell_type": "code",
   "execution_count": 49,
   "metadata": {
    "ExecuteTime": {
     "end_time": "2021-04-27T11:11:58.477819Z",
     "start_time": "2021-04-27T11:11:58.467363Z"
    }
   },
   "outputs": [],
   "source": [
    "from sklearn.metrics import mean_squared_error\n",
    "rms = mean_squared_error(Y_test, y_pred, squared=False)\n"
   ]
  },
  {
   "cell_type": "code",
   "execution_count": 50,
   "metadata": {
    "ExecuteTime": {
     "end_time": "2021-04-27T11:11:58.501948Z",
     "start_time": "2021-04-27T11:11:58.484724Z"
    }
   },
   "outputs": [
    {
     "data": {
      "text/plain": [
       "0.8030228568307446"
      ]
     },
     "execution_count": 50,
     "metadata": {},
     "output_type": "execute_result"
    }
   ],
   "source": [
    "rms"
   ]
  },
  {
   "cell_type": "markdown",
   "metadata": {},
   "source": [
    "### RMSE value for Train data :-"
   ]
  },
  {
   "cell_type": "code",
   "execution_count": 51,
   "metadata": {
    "ExecuteTime": {
     "end_time": "2021-04-27T11:11:58.854998Z",
     "start_time": "2021-04-27T11:11:58.510812Z"
    }
   },
   "outputs": [
    {
     "name": "stdout",
     "output_type": "stream",
     "text": [
      "106/106 [==============================] - 0s 2ms/step\n"
     ]
    }
   ],
   "source": [
    "y_pred_train = estimator.predict(X_train_norm)"
   ]
  },
  {
   "cell_type": "code",
   "execution_count": 52,
   "metadata": {
    "ExecuteTime": {
     "end_time": "2021-04-27T11:11:58.879018Z",
     "start_time": "2021-04-27T11:11:58.861930Z"
    }
   },
   "outputs": [
    {
     "data": {
      "text/plain": [
       "0.8060182323178912"
      ]
     },
     "execution_count": 52,
     "metadata": {},
     "output_type": "execute_result"
    }
   ],
   "source": [
    "rms_train = mean_squared_error(Y_train, y_pred_train, squared=False)\n",
    "rms_train"
   ]
  },
  {
   "cell_type": "markdown",
   "metadata": {},
   "source": [
    "##### We could see there is not much difference in RMSE values for train and test data so we can there is no overfitting problem in our model"
   ]
  },
  {
   "cell_type": "code",
   "execution_count": null,
   "metadata": {},
   "outputs": [],
   "source": []
  }
 ],
 "metadata": {
  "kernelspec": {
   "display_name": "Python 3",
   "language": "python",
   "name": "python3"
  },
  "language_info": {
   "codemirror_mode": {
    "name": "ipython",
    "version": 3
   },
   "file_extension": ".py",
   "mimetype": "text/x-python",
   "name": "python",
   "nbconvert_exporter": "python",
   "pygments_lexer": "ipython3",
   "version": "3.7.4"
  }
 },
 "nbformat": 4,
 "nbformat_minor": 2
}
